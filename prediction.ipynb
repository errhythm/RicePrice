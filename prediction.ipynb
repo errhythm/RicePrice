{
 "cells": [
  {
   "cell_type": "code",
   "execution_count": 321,
   "metadata": {
    "collapsed": true
   },
   "outputs": [],
   "source": [
    "import matplotlib.pyplot as plt\n",
    "import pandas as pd\n",
    "import numpy as np\n",
    "import lightgbm as lgb\n",
    "import seaborn as sns\n",
    "from sklearn.preprocessing import LabelEncoder\n",
    "from sklearn.model_selection import GridSearchCV"
   ]
  },
  {
   "cell_type": "code",
   "execution_count": 322,
   "metadata": {},
   "outputs": [
    {
     "data": {
      "text/html": [
       "<div>\n",
       "<style scoped>\n",
       "    .dataframe tbody tr th:only-of-type {\n",
       "        vertical-align: middle;\n",
       "    }\n",
       "\n",
       "    .dataframe tbody tr th {\n",
       "        vertical-align: top;\n",
       "    }\n",
       "\n",
       "    .dataframe thead th {\n",
       "        text-align: right;\n",
       "    }\n",
       "</style>\n",
       "<table border=\"1\" class=\"dataframe\">\n",
       "  <thead>\n",
       "    <tr style=\"text-align: right;\">\n",
       "      <th></th>\n",
       "      <th>division</th>\n",
       "      <th>district</th>\n",
       "      <th>upazila</th>\n",
       "      <th>bazar</th>\n",
       "      <th>merchandise</th>\n",
       "      <th>price_type</th>\n",
       "      <th>year</th>\n",
       "      <th>lowest_price</th>\n",
       "      <th>maximum_price</th>\n",
       "      <th>price</th>\n",
       "    </tr>\n",
       "  </thead>\n",
       "  <tbody>\n",
       "    <tr>\n",
       "      <th>0</th>\n",
       "      <td>Khulna</td>\n",
       "      <td>Satkhira</td>\n",
       "      <td>Satkhira Sadar</td>\n",
       "      <td>Satkhira Sadar</td>\n",
       "      <td>Aman</td>\n",
       "      <td>Retail</td>\n",
       "      <td>2010</td>\n",
       "      <td>4.0</td>\n",
       "      <td>5.0</td>\n",
       "      <td>4.50</td>\n",
       "    </tr>\n",
       "    <tr>\n",
       "      <th>1</th>\n",
       "      <td>Dhaka</td>\n",
       "      <td>Rajbari</td>\n",
       "      <td>Rajbari Sadar</td>\n",
       "      <td>Rajbari Sadar</td>\n",
       "      <td>Aman</td>\n",
       "      <td>Retail</td>\n",
       "      <td>2010</td>\n",
       "      <td>5.0</td>\n",
       "      <td>5.0</td>\n",
       "      <td>5.00</td>\n",
       "    </tr>\n",
       "    <tr>\n",
       "      <th>2</th>\n",
       "      <td>Dhaka</td>\n",
       "      <td>Kishoreganj</td>\n",
       "      <td>Kishoreganj Sadar</td>\n",
       "      <td>Kishoreganj Sadar</td>\n",
       "      <td>Aman</td>\n",
       "      <td>Retail</td>\n",
       "      <td>2010</td>\n",
       "      <td>5.0</td>\n",
       "      <td>6.0</td>\n",
       "      <td>5.50</td>\n",
       "    </tr>\n",
       "    <tr>\n",
       "      <th>3</th>\n",
       "      <td>Dhaka</td>\n",
       "      <td>Netrokona</td>\n",
       "      <td>Netrokona Sadar</td>\n",
       "      <td>Netrokona Sadar</td>\n",
       "      <td>Aman</td>\n",
       "      <td>Retail</td>\n",
       "      <td>2010</td>\n",
       "      <td>10.0</td>\n",
       "      <td>12.0</td>\n",
       "      <td>11.00</td>\n",
       "    </tr>\n",
       "    <tr>\n",
       "      <th>4</th>\n",
       "      <td>Dhaka</td>\n",
       "      <td>Netrokona</td>\n",
       "      <td>Netrokona Sadar</td>\n",
       "      <td>Netrokona Sadar</td>\n",
       "      <td>Aman</td>\n",
       "      <td>Retail</td>\n",
       "      <td>2010</td>\n",
       "      <td>12.0</td>\n",
       "      <td>12.5</td>\n",
       "      <td>12.25</td>\n",
       "    </tr>\n",
       "  </tbody>\n",
       "</table>\n",
       "</div>"
      ],
      "text/plain": [
       "  division     district            upazila              bazar merchandise  \\\n",
       "0   Khulna     Satkhira     Satkhira Sadar     Satkhira Sadar        Aman   \n",
       "1    Dhaka      Rajbari      Rajbari Sadar      Rajbari Sadar        Aman   \n",
       "2    Dhaka  Kishoreganj  Kishoreganj Sadar  Kishoreganj Sadar        Aman   \n",
       "3    Dhaka    Netrokona    Netrokona Sadar    Netrokona Sadar        Aman   \n",
       "4    Dhaka    Netrokona    Netrokona Sadar    Netrokona Sadar        Aman   \n",
       "\n",
       "  price_type  year  lowest_price  maximum_price  price  \n",
       "0     Retail  2010           4.0            5.0   4.50  \n",
       "1     Retail  2010           5.0            5.0   5.00  \n",
       "2     Retail  2010           5.0            6.0   5.50  \n",
       "3     Retail  2010          10.0           12.0  11.00  \n",
       "4     Retail  2010          12.0           12.5  12.25  "
      ]
     },
     "execution_count": 322,
     "metadata": {},
     "output_type": "execute_result"
    }
   ],
   "source": [
    "# load train data which is riceprice.csv\n",
    "df = pd.read_csv('riceprice.csv')\n",
    "df.head()"
   ]
  },
  {
   "cell_type": "code",
   "execution_count": 323,
   "metadata": {
    "collapsed": false
   },
   "outputs": [
    {
     "data": {
      "text/plain": [
       "division          object\n",
       "district          object\n",
       "upazila           object\n",
       "bazar             object\n",
       "merchandise       object\n",
       "price_type        object\n",
       "year               int64\n",
       "lowest_price     float64\n",
       "maximum_price    float64\n",
       "price            float64\n",
       "dtype: object"
      ]
     },
     "execution_count": 323,
     "metadata": {},
     "output_type": "execute_result"
    }
   ],
   "source": [
    "df.dtypes"
   ]
  },
  {
   "cell_type": "code",
   "execution_count": 324,
   "metadata": {
    "collapsed": false
   },
   "outputs": [
    {
     "data": {
      "image/png": "[encoded data removed]",
      "text/plain": [
       "<Figure size 360x360 with 1 Axes>"
      ]
     },
     "metadata": {
      "needs_background": "light"
     },
     "output_type": "display_data"
    }
   ],
   "source": [
    "# make a seaborn plot to see the distribution of price\n",
    "sns.displot(df['price'])\n",
    "# label\n",
    "plt.xlabel('Price', fontsize= 12)\n",
    "plt.ylabel('Frequency', fontsize= 12)\n",
    "plt.title('Distribution of Price', fontsize= 15)\n",
    "plt.savefig('images/distribution.pdf')\n",
    "plt.show()\n",
    "\n",
    "# Convert to PDF\n",
    "\n"
   ]
  },
  {
   "cell_type": "code",
   "execution_count": 325,
   "metadata": {},
   "outputs": [
    {
     "data": {
      "text/plain": [
       "<Figure size 1296x504 with 0 Axes>"
      ]
     },
     "metadata": {},
     "output_type": "display_data"
    },
    {
     "data": {
      "image/png": "[encoded data removed]",
      "text/plain": [
       "<Figure size 360x360 with 1 Axes>"
      ]
     },
     "metadata": {
      "needs_background": "light"
     },
     "output_type": "display_data"
    }
   ],
   "source": [
    "# use log transformation to make the distribution more normal\n",
    "plt.figure(figsize= (18, 7))\n",
    "sns.displot(np.log1p(df['price']))\n",
    "# label\n",
    "plt.xlabel('Price', fontsize= 12)\n",
    "plt.ylabel('Frequency', fontsize= 12)\n",
    "plt.title('Log Distribution of Price', fontsize= 15)\n",
    "plt.savefig('images/logdistribution.pdf')\n",
    "plt.show()"
   ]
  },
  {
   "cell_type": "code",
   "execution_count": 326,
   "metadata": {
    "collapsed": false
   },
   "outputs": [
    {
     "name": "stderr",
     "output_type": "stream",
     "text": [
      "c:\\users\\errhy\\appdata\\local\\programs\\python\\python39\\lib\\site-packages\\seaborn\\_decorators.py:36: FutureWarning: Pass the following variables as keyword args: x, y. From version 0.12, the only valid positional argument will be `data`, and passing other arguments without an explicit keyword will result in an error or misinterpretation.\n",
      "  warnings.warn(\n"
     ]
    },
    {
     "data": {
      "image/png": "[encoded data removed]",
      "text/plain": [
       "<Figure size 1296x504 with 1 Axes>"
      ]
     },
     "metadata": {
      "needs_background": "light"
     },
     "output_type": "display_data"
    }
   ],
   "source": [
    "# most costly year: get an average price of each year and make a barplot\n",
    "year_df = df.groupby('year')['price'].mean()\n",
    "\n",
    "plt.figure(figsize= (18, 7))\n",
    "sns.barplot(year_df.index, year_df.values)\n",
    "plt.xlabel('Year', fontsize= 12)\n",
    "plt.ylabel('Price', fontsize= 12)\n",
    "plt.title('Average Price of Rice in Each Year', fontsize= 15)\n",
    "plt.savefig('images/averageprice.pdf')\n",
    "plt.show()"
   ]
  },
  {
   "cell_type": "code",
   "execution_count": 327,
   "metadata": {
    "collapsed": false
   },
   "outputs": [],
   "source": [
    "# make a correlation heatmap to see the correlation between features\n",
    "\n",
    "# get the features df name\n",
    "corr_df = ['division', 'district', 'upazila', 'bazar', 'merchandise']\n",
    "\n",
    "# convert the categorical features to numerical features\n",
    "le = LabelEncoder()\n",
    "for i in corr_df:\n",
    "    df[i] = le.fit_transform(df[i])"
   ]
  },
  {
   "cell_type": "code",
   "execution_count": 328,
   "metadata": {
    "collapsed": false
   },
   "outputs": [
    {
     "data": {
      "image/png": "[encoded data removed]",
      "text/plain": [
       "<Figure size 1296x720 with 2 Axes>"
      ]
     },
     "metadata": {
      "needs_background": "light"
     },
     "output_type": "display_data"
    }
   ],
   "source": [
    "plt.figure(figsize= (18, 10))\n",
    "sns.heatmap(df.corr(), annot= True);\n",
    "\n",
    "# Convert to PDF\n",
    "plt.savefig('images/correlation.pdf')"
   ]
  },
  {
   "cell_type": "code",
   "execution_count": 329,
   "metadata": {},
   "outputs": [],
   "source": [
    "# use lightgbm model to predict price, already have test data, no need to split\n",
    "df.drop(['price_type', 'lowest_price', 'maximum_price'], axis= 1, inplace= True)\n",
    "\n",
    "# get the features and target\n",
    "X = df.drop('price', axis= 1)\n",
    "y = df['price']"
   ]
  },
  {
   "cell_type": "code",
   "execution_count": 330,
   "metadata": {
    "collapsed": false
   },
   "outputs": [
    {
     "data": {
      "text/html": [
       "<div>\n",
       "<style scoped>\n",
       "    .dataframe tbody tr th:only-of-type {\n",
       "        vertical-align: middle;\n",
       "    }\n",
       "\n",
       "    .dataframe tbody tr th {\n",
       "        vertical-align: top;\n",
       "    }\n",
       "\n",
       "    .dataframe thead th {\n",
       "        text-align: right;\n",
       "    }\n",
       "</style>\n",
       "<table border=\"1\" class=\"dataframe\">\n",
       "  <thead>\n",
       "    <tr style=\"text-align: right;\">\n",
       "      <th></th>\n",
       "      <th>division</th>\n",
       "      <th>district</th>\n",
       "      <th>upazila</th>\n",
       "      <th>bazar</th>\n",
       "      <th>merchandise</th>\n",
       "      <th>year</th>\n",
       "      <th>price</th>\n",
       "    </tr>\n",
       "  </thead>\n",
       "  <tbody>\n",
       "    <tr>\n",
       "      <th>0</th>\n",
       "      <td>Barisal</td>\n",
       "      <td>Jhalakathi</td>\n",
       "      <td>Jhalakathi Sadar</td>\n",
       "      <td>Jhalakathi Sadar</td>\n",
       "      <td>Boro</td>\n",
       "      <td>2021</td>\n",
       "      <td>18.69</td>\n",
       "    </tr>\n",
       "    <tr>\n",
       "      <th>1</th>\n",
       "      <td>Dhaka</td>\n",
       "      <td>Tangail</td>\n",
       "      <td>Tangail Sadar Bazar</td>\n",
       "      <td>Tangail Sadar Bazar</td>\n",
       "      <td>Aman</td>\n",
       "      <td>2021</td>\n",
       "      <td>20.50</td>\n",
       "    </tr>\n",
       "    <tr>\n",
       "      <th>2</th>\n",
       "      <td>Barisal</td>\n",
       "      <td>Patuakhali</td>\n",
       "      <td>Patuakhali Sadar</td>\n",
       "      <td>Patuakhali Sadar</td>\n",
       "      <td>Aus</td>\n",
       "      <td>2022</td>\n",
       "      <td>21.00</td>\n",
       "    </tr>\n",
       "    <tr>\n",
       "      <th>3</th>\n",
       "      <td>Barisal</td>\n",
       "      <td>Bhola</td>\n",
       "      <td>Bhola Sadar</td>\n",
       "      <td>Bhola Sadar</td>\n",
       "      <td>Boro</td>\n",
       "      <td>2021</td>\n",
       "      <td>21.50</td>\n",
       "    </tr>\n",
       "    <tr>\n",
       "      <th>4</th>\n",
       "      <td>Barisal</td>\n",
       "      <td>Barguna</td>\n",
       "      <td>Barguna Sadar</td>\n",
       "      <td>Barguna Sadar</td>\n",
       "      <td>Aus</td>\n",
       "      <td>2021</td>\n",
       "      <td>21.53</td>\n",
       "    </tr>\n",
       "    <tr>\n",
       "      <th>...</th>\n",
       "      <td>...</td>\n",
       "      <td>...</td>\n",
       "      <td>...</td>\n",
       "      <td>...</td>\n",
       "      <td>...</td>\n",
       "      <td>...</td>\n",
       "      <td>...</td>\n",
       "    </tr>\n",
       "    <tr>\n",
       "      <th>137</th>\n",
       "      <td>Khulna</td>\n",
       "      <td>Jessore</td>\n",
       "      <td>Headquarter of Jessore</td>\n",
       "      <td>Headquarter of Jessore</td>\n",
       "      <td>Boro</td>\n",
       "      <td>2022</td>\n",
       "      <td>38.59</td>\n",
       "    </tr>\n",
       "    <tr>\n",
       "      <th>138</th>\n",
       "      <td>Rajshahi</td>\n",
       "      <td>Natore</td>\n",
       "      <td>Natore Sadar</td>\n",
       "      <td>Natore Sadar</td>\n",
       "      <td>Boro</td>\n",
       "      <td>2022</td>\n",
       "      <td>39.71</td>\n",
       "    </tr>\n",
       "    <tr>\n",
       "      <th>139</th>\n",
       "      <td>Rangpur</td>\n",
       "      <td>Gaibandha</td>\n",
       "      <td>Gaibandha Sadar</td>\n",
       "      <td>Gaibandha Sadar</td>\n",
       "      <td>Aman</td>\n",
       "      <td>2021</td>\n",
       "      <td>41.00</td>\n",
       "    </tr>\n",
       "    <tr>\n",
       "      <th>140</th>\n",
       "      <td>Khulna</td>\n",
       "      <td>Jessore</td>\n",
       "      <td>Headquarter of Jessore</td>\n",
       "      <td>Headquarter of Jessore</td>\n",
       "      <td>Boro</td>\n",
       "      <td>2021</td>\n",
       "      <td>44.82</td>\n",
       "    </tr>\n",
       "    <tr>\n",
       "      <th>141</th>\n",
       "      <td>Dhaka</td>\n",
       "      <td>Mymensingh</td>\n",
       "      <td>Mymensingh Sadar</td>\n",
       "      <td>Mymensingh Sadar</td>\n",
       "      <td>Aman</td>\n",
       "      <td>2022</td>\n",
       "      <td>50.00</td>\n",
       "    </tr>\n",
       "  </tbody>\n",
       "</table>\n",
       "<p>142 rows × 7 columns</p>\n",
       "</div>"
      ],
      "text/plain": [
       "     division    district                 upazila                   bazar  \\\n",
       "0     Barisal  Jhalakathi        Jhalakathi Sadar        Jhalakathi Sadar   \n",
       "1       Dhaka     Tangail     Tangail Sadar Bazar     Tangail Sadar Bazar   \n",
       "2     Barisal  Patuakhali        Patuakhali Sadar        Patuakhali Sadar   \n",
       "3     Barisal       Bhola             Bhola Sadar             Bhola Sadar   \n",
       "4     Barisal     Barguna           Barguna Sadar           Barguna Sadar   \n",
       "..        ...         ...                     ...                     ...   \n",
       "137    Khulna     Jessore  Headquarter of Jessore  Headquarter of Jessore   \n",
       "138  Rajshahi      Natore            Natore Sadar            Natore Sadar   \n",
       "139   Rangpur   Gaibandha         Gaibandha Sadar         Gaibandha Sadar   \n",
       "140    Khulna     Jessore  Headquarter of Jessore  Headquarter of Jessore   \n",
       "141     Dhaka  Mymensingh        Mymensingh Sadar        Mymensingh Sadar   \n",
       "\n",
       "    merchandise  year  price  \n",
       "0          Boro  2021  18.69  \n",
       "1          Aman  2021  20.50  \n",
       "2           Aus  2022  21.00  \n",
       "3          Boro  2021  21.50  \n",
       "4           Aus  2021  21.53  \n",
       "..          ...   ...    ...  \n",
       "137        Boro  2022  38.59  \n",
       "138        Boro  2022  39.71  \n",
       "139        Aman  2021  41.00  \n",
       "140        Boro  2021  44.82  \n",
       "141        Aman  2022  50.00  \n",
       "\n",
       "[142 rows x 7 columns]"
      ]
     },
     "execution_count": 330,
     "metadata": {},
     "output_type": "execute_result"
    }
   ],
   "source": [
    "# import test data\n",
    "test_df = pd.read_csv('riceprice_test.csv', encoding=\"ISO-8859-1\")\n",
    "\n",
    "#drop price type\n",
    "test_df = test_df.drop('price_type', axis=1)\n",
    "\n",
    "# ideal test data\n",
    "\n",
    "actual_df = test_df.copy()\n",
    "\n",
    "test_df"
   ]
  },
  {
   "cell_type": "code",
   "execution_count": 331,
   "metadata": {
    "collapsed": false
   },
   "outputs": [
    {
     "data": {
      "text/html": [
       "<div>\n",
       "<style scoped>\n",
       "    .dataframe tbody tr th:only-of-type {\n",
       "        vertical-align: middle;\n",
       "    }\n",
       "\n",
       "    .dataframe tbody tr th {\n",
       "        vertical-align: top;\n",
       "    }\n",
       "\n",
       "    .dataframe thead th {\n",
       "        text-align: right;\n",
       "    }\n",
       "</style>\n",
       "<table border=\"1\" class=\"dataframe\">\n",
       "  <thead>\n",
       "    <tr style=\"text-align: right;\">\n",
       "      <th></th>\n",
       "      <th>division</th>\n",
       "      <th>district</th>\n",
       "      <th>upazila</th>\n",
       "      <th>bazar</th>\n",
       "      <th>merchandise</th>\n",
       "      <th>year</th>\n",
       "      <th>price</th>\n",
       "    </tr>\n",
       "  </thead>\n",
       "  <tbody>\n",
       "    <tr>\n",
       "      <th>0</th>\n",
       "      <td>0</td>\n",
       "      <td>5</td>\n",
       "      <td>5</td>\n",
       "      <td>5</td>\n",
       "      <td>2</td>\n",
       "      <td>2021</td>\n",
       "      <td>18.69</td>\n",
       "    </tr>\n",
       "    <tr>\n",
       "      <th>1</th>\n",
       "      <td>2</td>\n",
       "      <td>21</td>\n",
       "      <td>21</td>\n",
       "      <td>21</td>\n",
       "      <td>0</td>\n",
       "      <td>2021</td>\n",
       "      <td>20.50</td>\n",
       "    </tr>\n",
       "    <tr>\n",
       "      <th>2</th>\n",
       "      <td>0</td>\n",
       "      <td>14</td>\n",
       "      <td>14</td>\n",
       "      <td>14</td>\n",
       "      <td>1</td>\n",
       "      <td>2022</td>\n",
       "      <td>21.00</td>\n",
       "    </tr>\n",
       "    <tr>\n",
       "      <th>3</th>\n",
       "      <td>0</td>\n",
       "      <td>1</td>\n",
       "      <td>1</td>\n",
       "      <td>1</td>\n",
       "      <td>2</td>\n",
       "      <td>2021</td>\n",
       "      <td>21.50</td>\n",
       "    </tr>\n",
       "    <tr>\n",
       "      <th>4</th>\n",
       "      <td>0</td>\n",
       "      <td>0</td>\n",
       "      <td>0</td>\n",
       "      <td>0</td>\n",
       "      <td>1</td>\n",
       "      <td>2021</td>\n",
       "      <td>21.53</td>\n",
       "    </tr>\n",
       "    <tr>\n",
       "      <th>...</th>\n",
       "      <td>...</td>\n",
       "      <td>...</td>\n",
       "      <td>...</td>\n",
       "      <td>...</td>\n",
       "      <td>...</td>\n",
       "      <td>...</td>\n",
       "      <td>...</td>\n",
       "    </tr>\n",
       "    <tr>\n",
       "      <th>137</th>\n",
       "      <td>3</td>\n",
       "      <td>4</td>\n",
       "      <td>4</td>\n",
       "      <td>4</td>\n",
       "      <td>2</td>\n",
       "      <td>2022</td>\n",
       "      <td>38.59</td>\n",
       "    </tr>\n",
       "    <tr>\n",
       "      <th>138</th>\n",
       "      <td>4</td>\n",
       "      <td>11</td>\n",
       "      <td>11</td>\n",
       "      <td>11</td>\n",
       "      <td>2</td>\n",
       "      <td>2022</td>\n",
       "      <td>39.71</td>\n",
       "    </tr>\n",
       "    <tr>\n",
       "      <th>139</th>\n",
       "      <td>5</td>\n",
       "      <td>2</td>\n",
       "      <td>2</td>\n",
       "      <td>2</td>\n",
       "      <td>0</td>\n",
       "      <td>2021</td>\n",
       "      <td>41.00</td>\n",
       "    </tr>\n",
       "    <tr>\n",
       "      <th>140</th>\n",
       "      <td>3</td>\n",
       "      <td>4</td>\n",
       "      <td>4</td>\n",
       "      <td>4</td>\n",
       "      <td>2</td>\n",
       "      <td>2021</td>\n",
       "      <td>44.82</td>\n",
       "    </tr>\n",
       "    <tr>\n",
       "      <th>141</th>\n",
       "      <td>2</td>\n",
       "      <td>9</td>\n",
       "      <td>9</td>\n",
       "      <td>9</td>\n",
       "      <td>0</td>\n",
       "      <td>2022</td>\n",
       "      <td>50.00</td>\n",
       "    </tr>\n",
       "  </tbody>\n",
       "</table>\n",
       "<p>142 rows × 7 columns</p>\n",
       "</div>"
      ],
      "text/plain": [
       "     division  district  upazila  bazar  merchandise  year  price\n",
       "0           0         5        5      5            2  2021  18.69\n",
       "1           2        21       21     21            0  2021  20.50\n",
       "2           0        14       14     14            1  2022  21.00\n",
       "3           0         1        1      1            2  2021  21.50\n",
       "4           0         0        0      0            1  2021  21.53\n",
       "..        ...       ...      ...    ...          ...   ...    ...\n",
       "137         3         4        4      4            2  2022  38.59\n",
       "138         4        11       11     11            2  2022  39.71\n",
       "139         5         2        2      2            0  2021  41.00\n",
       "140         3         4        4      4            2  2021  44.82\n",
       "141         2         9        9      9            0  2022  50.00\n",
       "\n",
       "[142 rows x 7 columns]"
      ]
     },
     "execution_count": 331,
     "metadata": {},
     "output_type": "execute_result"
    }
   ],
   "source": [
    "# convert the categorical features to numerical features except year\n",
    "le = LabelEncoder()\n",
    "\n",
    "columns = ['division', 'district', 'upazila', 'bazar', 'merchandise']\n",
    "\n",
    "for i in columns:\n",
    "    test_df[i] = le.fit_transform(test_df[i])    \n",
    "    \n",
    "test_df"
   ]
  },
  {
   "cell_type": "code",
   "execution_count": 332,
   "metadata": {
    "collapsed": false
   },
   "outputs": [],
   "source": [
    "# predict the price of test data after removing the price\n",
    "test_pred = test_df.drop('price', axis=1)"
   ]
  },
  {
   "cell_type": "markdown",
   "metadata": {
    "collapsed": false
   },
   "source": [
    "## GridSearchCV"
   ]
  },
  {
   "cell_type": "code",
   "execution_count": 272,
   "metadata": {
    "collapsed": false
   },
   "outputs": [
    {
     "data": {
      "text/html": [
       "<style>#sk-container-id-14 {color: black;background-color: white;}#sk-container-id-14 pre{padding: 0;}#sk-container-id-14 div.sk-toggleable {background-color: white;}#sk-container-id-14 label.sk-toggleable__label {cursor: pointer;display: block;width: 100%;margin-bottom: 0;padding: 0.3em;box-sizing: border-box;text-align: center;}#sk-container-id-14 label.sk-toggleable__label-arrow:before {content: \"▸\";float: left;margin-right: 0.25em;color: #696969;}#sk-container-id-14 label.sk-toggleable__label-arrow:hover:before {color: black;}#sk-container-id-14 div.sk-estimator:hover label.sk-toggleable__label-arrow:before {color: black;}#sk-container-id-14 div.sk-toggleable__content {max-height: 0;max-width: 0;overflow: hidden;text-align: left;background-color: #f0f8ff;}#sk-container-id-14 div.sk-toggleable__content pre {margin: 0.2em;color: black;border-radius: 0.25em;background-color: #f0f8ff;}#sk-container-id-14 input.sk-toggleable__control:checked~div.sk-toggleable__content {max-height: 200px;max-width: 100%;overflow: auto;}#sk-container-id-14 input.sk-toggleable__control:checked~label.sk-toggleable__label-arrow:before {content: \"▾\";}#sk-container-id-14 div.sk-estimator input.sk-toggleable__control:checked~label.sk-toggleable__label {background-color: #d4ebff;}#sk-container-id-14 div.sk-label input.sk-toggleable__control:checked~label.sk-toggleable__label {background-color: #d4ebff;}#sk-container-id-14 input.sk-hidden--visually {border: 0;clip: rect(1px 1px 1px 1px);clip: rect(1px, 1px, 1px, 1px);height: 1px;margin: -1px;overflow: hidden;padding: 0;position: absolute;width: 1px;}#sk-container-id-14 div.sk-estimator {font-family: monospace;background-color: #f0f8ff;border: 1px dotted black;border-radius: 0.25em;box-sizing: border-box;margin-bottom: 0.5em;}#sk-container-id-14 div.sk-estimator:hover {background-color: #d4ebff;}#sk-container-id-14 div.sk-parallel-item::after {content: \"\";width: 100%;border-bottom: 1px solid gray;flex-grow: 1;}#sk-container-id-14 div.sk-label:hover label.sk-toggleable__label {background-color: #d4ebff;}#sk-container-id-14 div.sk-serial::before {content: \"\";position: absolute;border-left: 1px solid gray;box-sizing: border-box;top: 0;bottom: 0;left: 50%;z-index: 0;}#sk-container-id-14 div.sk-serial {display: flex;flex-direction: column;align-items: center;background-color: white;padding-right: 0.2em;padding-left: 0.2em;position: relative;}#sk-container-id-14 div.sk-item {position: relative;z-index: 1;}#sk-container-id-14 div.sk-parallel {display: flex;align-items: stretch;justify-content: center;background-color: white;position: relative;}#sk-container-id-14 div.sk-item::before, #sk-container-id-14 div.sk-parallel-item::before {content: \"\";position: absolute;border-left: 1px solid gray;box-sizing: border-box;top: 0;bottom: 0;left: 50%;z-index: -1;}#sk-container-id-14 div.sk-parallel-item {display: flex;flex-direction: column;z-index: 1;position: relative;background-color: white;}#sk-container-id-14 div.sk-parallel-item:first-child::after {align-self: flex-end;width: 50%;}#sk-container-id-14 div.sk-parallel-item:last-child::after {align-self: flex-start;width: 50%;}#sk-container-id-14 div.sk-parallel-item:only-child::after {width: 0;}#sk-container-id-14 div.sk-dashed-wrapped {border: 1px dashed gray;margin: 0 0.4em 0.5em 0.4em;box-sizing: border-box;padding-bottom: 0.4em;background-color: white;}#sk-container-id-14 div.sk-label label {font-family: monospace;font-weight: bold;display: inline-block;line-height: 1.2em;}#sk-container-id-14 div.sk-label-container {text-align: center;}#sk-container-id-14 div.sk-container {/* jupyter's `normalize.less` sets `[hidden] { display: none; }` but bootstrap.min.css set `[hidden] { display: none !important; }` so we also need the `!important` here to be able to override the default hidden behavior on the sphinx rendered scikit-learn.org. See: https://github.com/scikit-learn/scikit-learn/issues/21755 */display: inline-block !important;position: relative;}#sk-container-id-14 div.sk-text-repr-fallback {display: none;}</style><div id=\"sk-container-id-14\" class=\"sk-top-container\"><div class=\"sk-text-repr-fallback\"><pre>GridSearchCV(cv=5,\n",
       "             estimator=Pipeline(steps=[(&#x27;standardscaler&#x27;,\n",
       "                                        StandardScaler(with_mean=False)),\n",
       "                                       (&#x27;ridge&#x27;, Ridge())]),\n",
       "             param_grid={&#x27;ridge__alpha&#x27;: [0.01, 0.1, 1, 10, 100]},\n",
       "             scoring=&#x27;neg_mean_squared_error&#x27;)</pre><b>In a Jupyter environment, please rerun this cell to show the HTML representation or trust the notebook. <br />On GitHub, the HTML representation is unable to render, please try loading this page with nbviewer.org.</b></div><div class=\"sk-container\" hidden><div class=\"sk-item sk-dashed-wrapped\"><div class=\"sk-label-container\"><div class=\"sk-label sk-toggleable\"><input class=\"sk-toggleable__control sk-hidden--visually\" id=\"sk-estimator-id-29\" type=\"checkbox\" ><label for=\"sk-estimator-id-29\" class=\"sk-toggleable__label sk-toggleable__label-arrow\">GridSearchCV</label><div class=\"sk-toggleable__content\"><pre>GridSearchCV(cv=5,\n",
       "             estimator=Pipeline(steps=[(&#x27;standardscaler&#x27;,\n",
       "                                        StandardScaler(with_mean=False)),\n",
       "                                       (&#x27;ridge&#x27;, Ridge())]),\n",
       "             param_grid={&#x27;ridge__alpha&#x27;: [0.01, 0.1, 1, 10, 100]},\n",
       "             scoring=&#x27;neg_mean_squared_error&#x27;)</pre></div></div></div><div class=\"sk-parallel\"><div class=\"sk-parallel-item\"><div class=\"sk-item\"><div class=\"sk-label-container\"><div class=\"sk-label sk-toggleable\"><input class=\"sk-toggleable__control sk-hidden--visually\" id=\"sk-estimator-id-30\" type=\"checkbox\" ><label for=\"sk-estimator-id-30\" class=\"sk-toggleable__label sk-toggleable__label-arrow\">estimator: Pipeline</label><div class=\"sk-toggleable__content\"><pre>Pipeline(steps=[(&#x27;standardscaler&#x27;, StandardScaler(with_mean=False)),\n",
       "                (&#x27;ridge&#x27;, Ridge())])</pre></div></div></div><div class=\"sk-serial\"><div class=\"sk-item\"><div class=\"sk-serial\"><div class=\"sk-item\"><div class=\"sk-estimator sk-toggleable\"><input class=\"sk-toggleable__control sk-hidden--visually\" id=\"sk-estimator-id-31\" type=\"checkbox\" ><label for=\"sk-estimator-id-31\" class=\"sk-toggleable__label sk-toggleable__label-arrow\">StandardScaler</label><div class=\"sk-toggleable__content\"><pre>StandardScaler(with_mean=False)</pre></div></div></div><div class=\"sk-item\"><div class=\"sk-estimator sk-toggleable\"><input class=\"sk-toggleable__control sk-hidden--visually\" id=\"sk-estimator-id-32\" type=\"checkbox\" ><label for=\"sk-estimator-id-32\" class=\"sk-toggleable__label sk-toggleable__label-arrow\">Ridge</label><div class=\"sk-toggleable__content\"><pre>Ridge()</pre></div></div></div></div></div></div></div></div></div></div></div></div>"
      ],
      "text/plain": [
       "GridSearchCV(cv=5,\n",
       "             estimator=Pipeline(steps=[('standardscaler',\n",
       "                                        StandardScaler(with_mean=False)),\n",
       "                                       ('ridge', Ridge())]),\n",
       "             param_grid={'ridge__alpha': [0.01, 0.1, 1, 10, 100]},\n",
       "             scoring='neg_mean_squared_error')"
      ]
     },
     "execution_count": 272,
     "metadata": {},
     "output_type": "execute_result"
    }
   ],
   "source": [
    "from sklearn.pipeline import make_pipeline\n",
    "from sklearn.preprocessing import StandardScaler\n",
    "from sklearn.linear_model import Ridge\n",
    "\n",
    "model = make_pipeline(StandardScaler(with_mean=False), Ridge())\n",
    "\n",
    "kwargs = {'ridge__alpha': [0.01, 0.1, 1, 10, 100]}\n",
    "\n",
    "grid = GridSearchCV(model, kwargs, cv=5, scoring='neg_mean_squared_error')\n",
    "\n",
    "grid.fit(X, y)"
   ]
  },
  {
   "cell_type": "code",
   "execution_count": 273,
   "metadata": {
    "collapsed": false
   },
   "outputs": [],
   "source": [
    "# predict the price of test data after removing the price\n",
    "test_pred = test_df.drop('price', axis=1)"
   ]
  },
  {
   "cell_type": "code",
   "execution_count": 274,
   "metadata": {
    "collapsed": false
   },
   "outputs": [
    {
     "data": {
      "text/plain": [
       "array([22.53457682, 24.52959349, 21.60161183, 22.78879099, 23.33955121,\n",
       "       27.81888744, 26.97069766, 23.76320434, 25.10157537, 27.56467327,\n",
       "       22.08881851, 22.87345475, 28.53908663, 22.91501456, 23.27599767,\n",
       "       27.94511102, 26.80203076, 23.68140371, 21.89904139, 27.56467327,\n",
       "       25.10157537, 27.81888744, 25.44353932, 22.49136143, 27.50111973,\n",
       "       22.87345475, 28.7933008 , 23.80851079, 24.1694939 , 27.94511102,\n",
       "       25.95384098, 26.2917291 , 27.56467327, 24.12716202, 27.69089685,\n",
       "       26.65292995, 24.59314703, 26.71648349, 23.61873368, 24.1694939 ,\n",
       "       28.53908663, 24.01929183, 27.28923744, 22.93700829, 26.80203076,\n",
       "       22.97856811, 24.65670058, 28.7933008 , 23.74495725, 26.97069766,\n",
       "       28.53908663, 23.61873368, 26.92825434, 28.47553309, 27.81888744,\n",
       "       27.77644412, 24.25338559, 23.80851079, 27.94511102, 26.22817556,\n",
       "       27.69089685, 27.69089685, 26.71648349, 27.62734331, 27.50111973,\n",
       "       24.6991439 , 25.37998578, 25.78054393, 28.53908663, 26.8848212 ,\n",
       "       25.10157537, 24.65670058, 28.47553309, 23.55518013, 28.7933008 ,\n",
       "       27.69089685, 23.68228722, 27.62734331, 26.80203076, 23.74495725,\n",
       "       23.76507766, 24.59314703, 24.80613058, 26.92825434, 26.37451954,\n",
       "       26.65292995, 26.2917291 , 24.12716202, 26.71648349, 26.03663142,\n",
       "       27.28923744, 25.88731287, 24.25338559, 22.83409744, 27.26614246,\n",
       "       26.03663142, 26.35439914, 27.20258892, 22.70699035, 26.8848212 ,\n",
       "       22.49136143, 27.77644412, 23.68228722, 23.68228722, 26.2917291 ,\n",
       "       22.83409744, 24.65670058, 24.82536748, 26.22817556, 24.25338559,\n",
       "       24.59314703, 25.44353932, 27.69089685, 25.91040785, 25.10157537,\n",
       "       25.95384098, 25.67355726, 23.85095412, 27.26614246, 27.20258892,\n",
       "       22.87345475, 23.82675789, 27.20258892, 25.40010619, 26.35439914,\n",
       "       25.78054393, 26.97069766, 25.44353932, 24.25338559, 24.59314703,\n",
       "       27.20258892, 26.22817556, 25.06221806, 27.26614246, 25.37998578,\n",
       "       24.80613058, 25.78054393, 24.80613058, 25.37998578, 28.7933008 ,\n",
       "       25.65432036, 24.44404622])"
      ]
     },
     "execution_count": 274,
     "metadata": {},
     "output_type": "execute_result"
    }
   ],
   "source": [
    "predicted_df = grid.predict(test_pred)\n",
    "predicted_df"
   ]
  },
  {
   "cell_type": "code",
   "execution_count": 275,
   "metadata": {
    "collapsed": false
   },
   "outputs": [
    {
     "data": {
      "text/html": [
       "<div>\n",
       "<style scoped>\n",
       "    .dataframe tbody tr th:only-of-type {\n",
       "        vertical-align: middle;\n",
       "    }\n",
       "\n",
       "    .dataframe tbody tr th {\n",
       "        vertical-align: top;\n",
       "    }\n",
       "\n",
       "    .dataframe thead th {\n",
       "        text-align: right;\n",
       "    }\n",
       "</style>\n",
       "<table border=\"1\" class=\"dataframe\">\n",
       "  <thead>\n",
       "    <tr style=\"text-align: right;\">\n",
       "      <th></th>\n",
       "      <th>division</th>\n",
       "      <th>district</th>\n",
       "      <th>upazila</th>\n",
       "      <th>bazar</th>\n",
       "      <th>merchandise</th>\n",
       "      <th>year</th>\n",
       "      <th>price</th>\n",
       "      <th>predicted_price</th>\n",
       "    </tr>\n",
       "  </thead>\n",
       "  <tbody>\n",
       "    <tr>\n",
       "      <th>0</th>\n",
       "      <td>Barisal</td>\n",
       "      <td>Jhalakathi</td>\n",
       "      <td>Jhalakathi Sadar</td>\n",
       "      <td>Jhalakathi Sadar</td>\n",
       "      <td>Boro</td>\n",
       "      <td>2021</td>\n",
       "      <td>18.69</td>\n",
       "      <td>22.534577</td>\n",
       "    </tr>\n",
       "    <tr>\n",
       "      <th>1</th>\n",
       "      <td>Dhaka</td>\n",
       "      <td>Tangail</td>\n",
       "      <td>Tangail Sadar Bazar</td>\n",
       "      <td>Tangail Sadar Bazar</td>\n",
       "      <td>Aman</td>\n",
       "      <td>2021</td>\n",
       "      <td>20.50</td>\n",
       "      <td>24.529593</td>\n",
       "    </tr>\n",
       "    <tr>\n",
       "      <th>2</th>\n",
       "      <td>Barisal</td>\n",
       "      <td>Patuakhali</td>\n",
       "      <td>Patuakhali Sadar</td>\n",
       "      <td>Patuakhali Sadar</td>\n",
       "      <td>Aus</td>\n",
       "      <td>2022</td>\n",
       "      <td>21.00</td>\n",
       "      <td>21.601612</td>\n",
       "    </tr>\n",
       "    <tr>\n",
       "      <th>3</th>\n",
       "      <td>Barisal</td>\n",
       "      <td>Bhola</td>\n",
       "      <td>Bhola Sadar</td>\n",
       "      <td>Bhola Sadar</td>\n",
       "      <td>Boro</td>\n",
       "      <td>2021</td>\n",
       "      <td>21.50</td>\n",
       "      <td>22.788791</td>\n",
       "    </tr>\n",
       "    <tr>\n",
       "      <th>4</th>\n",
       "      <td>Barisal</td>\n",
       "      <td>Barguna</td>\n",
       "      <td>Barguna Sadar</td>\n",
       "      <td>Barguna Sadar</td>\n",
       "      <td>Aus</td>\n",
       "      <td>2021</td>\n",
       "      <td>21.53</td>\n",
       "      <td>23.339551</td>\n",
       "    </tr>\n",
       "    <tr>\n",
       "      <th>...</th>\n",
       "      <td>...</td>\n",
       "      <td>...</td>\n",
       "      <td>...</td>\n",
       "      <td>...</td>\n",
       "      <td>...</td>\n",
       "      <td>...</td>\n",
       "      <td>...</td>\n",
       "      <td>...</td>\n",
       "    </tr>\n",
       "    <tr>\n",
       "      <th>137</th>\n",
       "      <td>Khulna</td>\n",
       "      <td>Jessore</td>\n",
       "      <td>Headquarter of Jessore</td>\n",
       "      <td>Headquarter of Jessore</td>\n",
       "      <td>Boro</td>\n",
       "      <td>2022</td>\n",
       "      <td>38.59</td>\n",
       "      <td>24.806131</td>\n",
       "    </tr>\n",
       "    <tr>\n",
       "      <th>138</th>\n",
       "      <td>Rajshahi</td>\n",
       "      <td>Natore</td>\n",
       "      <td>Natore Sadar</td>\n",
       "      <td>Natore Sadar</td>\n",
       "      <td>Boro</td>\n",
       "      <td>2022</td>\n",
       "      <td>39.71</td>\n",
       "      <td>25.379986</td>\n",
       "    </tr>\n",
       "    <tr>\n",
       "      <th>139</th>\n",
       "      <td>Rangpur</td>\n",
       "      <td>Gaibandha</td>\n",
       "      <td>Gaibandha Sadar</td>\n",
       "      <td>Gaibandha Sadar</td>\n",
       "      <td>Aman</td>\n",
       "      <td>2021</td>\n",
       "      <td>41.00</td>\n",
       "      <td>28.793301</td>\n",
       "    </tr>\n",
       "    <tr>\n",
       "      <th>140</th>\n",
       "      <td>Khulna</td>\n",
       "      <td>Jessore</td>\n",
       "      <td>Headquarter of Jessore</td>\n",
       "      <td>Headquarter of Jessore</td>\n",
       "      <td>Boro</td>\n",
       "      <td>2021</td>\n",
       "      <td>44.82</td>\n",
       "      <td>25.654320</td>\n",
       "    </tr>\n",
       "    <tr>\n",
       "      <th>141</th>\n",
       "      <td>Dhaka</td>\n",
       "      <td>Mymensingh</td>\n",
       "      <td>Mymensingh Sadar</td>\n",
       "      <td>Mymensingh Sadar</td>\n",
       "      <td>Aman</td>\n",
       "      <td>2022</td>\n",
       "      <td>50.00</td>\n",
       "      <td>24.444046</td>\n",
       "    </tr>\n",
       "  </tbody>\n",
       "</table>\n",
       "<p>142 rows × 8 columns</p>\n",
       "</div>"
      ],
      "text/plain": [
       "     division    district                 upazila                   bazar  \\\n",
       "0     Barisal  Jhalakathi        Jhalakathi Sadar        Jhalakathi Sadar   \n",
       "1       Dhaka     Tangail     Tangail Sadar Bazar     Tangail Sadar Bazar   \n",
       "2     Barisal  Patuakhali        Patuakhali Sadar        Patuakhali Sadar   \n",
       "3     Barisal       Bhola             Bhola Sadar             Bhola Sadar   \n",
       "4     Barisal     Barguna           Barguna Sadar           Barguna Sadar   \n",
       "..        ...         ...                     ...                     ...   \n",
       "137    Khulna     Jessore  Headquarter of Jessore  Headquarter of Jessore   \n",
       "138  Rajshahi      Natore            Natore Sadar            Natore Sadar   \n",
       "139   Rangpur   Gaibandha         Gaibandha Sadar         Gaibandha Sadar   \n",
       "140    Khulna     Jessore  Headquarter of Jessore  Headquarter of Jessore   \n",
       "141     Dhaka  Mymensingh        Mymensingh Sadar        Mymensingh Sadar   \n",
       "\n",
       "    merchandise  year  price  predicted_price  \n",
       "0          Boro  2021  18.69        22.534577  \n",
       "1          Aman  2021  20.50        24.529593  \n",
       "2           Aus  2022  21.00        21.601612  \n",
       "3          Boro  2021  21.50        22.788791  \n",
       "4           Aus  2021  21.53        23.339551  \n",
       "..          ...   ...    ...              ...  \n",
       "137        Boro  2022  38.59        24.806131  \n",
       "138        Boro  2022  39.71        25.379986  \n",
       "139        Aman  2021  41.00        28.793301  \n",
       "140        Boro  2021  44.82        25.654320  \n",
       "141        Aman  2022  50.00        24.444046  \n",
       "\n",
       "[142 rows x 8 columns]"
      ]
     },
     "execution_count": 275,
     "metadata": {},
     "output_type": "execute_result"
    }
   ],
   "source": [
    "# merge the prediction dataframe with test dataframe renaming price to predicted price\n",
    "predicted_df = pd.DataFrame(predicted_df, columns=['predicted_price'])\n",
    "\n",
    "predicted_df = pd.concat([actual_df, predicted_df], axis=1)\n",
    "\n",
    "predicted_df"
   ]
  },
  {
   "cell_type": "code",
   "execution_count": 276,
   "metadata": {
    "collapsed": false
   },
   "outputs": [
    {
     "name": "stderr",
     "output_type": "stream",
     "text": [
      "c:\\users\\errhy\\appdata\\local\\programs\\python\\python39\\lib\\site-packages\\seaborn\\_decorators.py:36: FutureWarning: Pass the following variables as keyword args: x, y. From version 0.12, the only valid positional argument will be `data`, and passing other arguments without an explicit keyword will result in an error or misinterpretation.\n",
      "  warnings.warn(\n",
      "c:\\users\\errhy\\appdata\\local\\programs\\python\\python39\\lib\\site-packages\\seaborn\\_decorators.py:36: FutureWarning: Pass the following variables as keyword args: x, y. From version 0.12, the only valid positional argument will be `data`, and passing other arguments without an explicit keyword will result in an error or misinterpretation.\n",
      "  warnings.warn(\n"
     ]
    },
    {
     "data": {
      "image/png": "[encoded data removed]",
      "text/plain": [
       "<Figure size 1296x504 with 1 Axes>"
      ]
     },
     "metadata": {
      "needs_background": "light"
     },
     "output_type": "display_data"
    }
   ],
   "source": [
    "# compare the price and predicted price with seaborn barplot\n",
    "plt.figure(figsize= (18, 7))\n",
    "sns.barplot(predicted_df['division'], predicted_df['price'], color= 'blue', label= 'Actual Price')\n",
    "sns.barplot(predicted_df['division'], predicted_df['predicted_price'], color= 'red', label= 'Predicted Price')\n",
    "plt.xlabel('Divisions', fontsize= 12)\n",
    "plt.ylabel('Price', fontsize= 12)\n",
    "plt.title('Actual Price vs Predicted Price', fontsize= 15)\n",
    "plt.legend()\n",
    "plt.savefig('images/grid_barplot.pdf')\n",
    "plt.show()"
   ]
  },
  {
   "cell_type": "code",
   "execution_count": 282,
   "metadata": {
    "collapsed": false
   },
   "outputs": [
    {
     "name": "stderr",
     "output_type": "stream",
     "text": [
      "c:\\users\\errhy\\appdata\\local\\programs\\python\\python39\\lib\\site-packages\\seaborn\\_decorators.py:36: FutureWarning: Pass the following variables as keyword args: x, y. From version 0.12, the only valid positional argument will be `data`, and passing other arguments without an explicit keyword will result in an error or misinterpretation.\n",
      "  warnings.warn(\n"
     ]
    },
    {
     "data": {
      "image/png": "[encoded data removed]",
      "text/plain": [
       "<Figure size 1296x504 with 1 Axes>"
      ]
     },
     "metadata": {
      "needs_background": "light"
     },
     "output_type": "display_data"
    }
   ],
   "source": [
    "# make a scatter plot to see the difference between actual price and predicted price\n",
    "plt.figure(figsize= (18, 7))\n",
    "sns.scatterplot(predicted_df['price'], predicted_df['predicted_price'])\n",
    "plt.xlabel('Actual Price', fontsize= 12)\n",
    "plt.ylabel('Predicted Price', fontsize= 12)\n",
    "plt.title('Actual Price vs Predicted Price', fontsize= 15)\n",
    "plt.savefig('images/grid_scatter.pdf')\n",
    "plt.show()\n"
   ]
  },
  {
   "cell_type": "markdown",
   "metadata": {
    "collapsed": false
   },
   "source": [
    "## Ridge regression"
   ]
  },
  {
   "cell_type": "code",
   "execution_count": 296,
   "metadata": {
    "collapsed": false
   },
   "outputs": [
    {
     "name": "stderr",
     "output_type": "stream",
     "text": [
      "c:\\users\\errhy\\appdata\\local\\programs\\python\\python39\\lib\\site-packages\\sklearn\\linear_model\\_base.py:141: FutureWarning: 'normalize' was deprecated in version 1.0 and will be removed in 1.2.\n",
      "If you wish to scale the data, use Pipeline with a StandardScaler in a preprocessing stage. To reproduce the previous behavior:\n",
      "\n",
      "from sklearn.pipeline import make_pipeline\n",
      "\n",
      "model = make_pipeline(StandardScaler(with_mean=False), Ridge())\n",
      "\n",
      "If you wish to pass a sample_weight parameter, you need to pass it as a fit parameter to each step of the pipeline as follows:\n",
      "\n",
      "kwargs = {s[0] + '__sample_weight': sample_weight for s in model.steps}\n",
      "model.fit(X, y, **kwargs)\n",
      "\n",
      "Set parameter alpha to: original_alpha * n_samples. \n",
      "  warnings.warn(\n"
     ]
    },
    {
     "data": {
      "text/html": [
       "<style>#sk-container-id-16 {color: black;background-color: white;}#sk-container-id-16 pre{padding: 0;}#sk-container-id-16 div.sk-toggleable {background-color: white;}#sk-container-id-16 label.sk-toggleable__label {cursor: pointer;display: block;width: 100%;margin-bottom: 0;padding: 0.3em;box-sizing: border-box;text-align: center;}#sk-container-id-16 label.sk-toggleable__label-arrow:before {content: \"▸\";float: left;margin-right: 0.25em;color: #696969;}#sk-container-id-16 label.sk-toggleable__label-arrow:hover:before {color: black;}#sk-container-id-16 div.sk-estimator:hover label.sk-toggleable__label-arrow:before {color: black;}#sk-container-id-16 div.sk-toggleable__content {max-height: 0;max-width: 0;overflow: hidden;text-align: left;background-color: #f0f8ff;}#sk-container-id-16 div.sk-toggleable__content pre {margin: 0.2em;color: black;border-radius: 0.25em;background-color: #f0f8ff;}#sk-container-id-16 input.sk-toggleable__control:checked~div.sk-toggleable__content {max-height: 200px;max-width: 100%;overflow: auto;}#sk-container-id-16 input.sk-toggleable__control:checked~label.sk-toggleable__label-arrow:before {content: \"▾\";}#sk-container-id-16 div.sk-estimator input.sk-toggleable__control:checked~label.sk-toggleable__label {background-color: #d4ebff;}#sk-container-id-16 div.sk-label input.sk-toggleable__control:checked~label.sk-toggleable__label {background-color: #d4ebff;}#sk-container-id-16 input.sk-hidden--visually {border: 0;clip: rect(1px 1px 1px 1px);clip: rect(1px, 1px, 1px, 1px);height: 1px;margin: -1px;overflow: hidden;padding: 0;position: absolute;width: 1px;}#sk-container-id-16 div.sk-estimator {font-family: monospace;background-color: #f0f8ff;border: 1px dotted black;border-radius: 0.25em;box-sizing: border-box;margin-bottom: 0.5em;}#sk-container-id-16 div.sk-estimator:hover {background-color: #d4ebff;}#sk-container-id-16 div.sk-parallel-item::after {content: \"\";width: 100%;border-bottom: 1px solid gray;flex-grow: 1;}#sk-container-id-16 div.sk-label:hover label.sk-toggleable__label {background-color: #d4ebff;}#sk-container-id-16 div.sk-serial::before {content: \"\";position: absolute;border-left: 1px solid gray;box-sizing: border-box;top: 0;bottom: 0;left: 50%;z-index: 0;}#sk-container-id-16 div.sk-serial {display: flex;flex-direction: column;align-items: center;background-color: white;padding-right: 0.2em;padding-left: 0.2em;position: relative;}#sk-container-id-16 div.sk-item {position: relative;z-index: 1;}#sk-container-id-16 div.sk-parallel {display: flex;align-items: stretch;justify-content: center;background-color: white;position: relative;}#sk-container-id-16 div.sk-item::before, #sk-container-id-16 div.sk-parallel-item::before {content: \"\";position: absolute;border-left: 1px solid gray;box-sizing: border-box;top: 0;bottom: 0;left: 50%;z-index: -1;}#sk-container-id-16 div.sk-parallel-item {display: flex;flex-direction: column;z-index: 1;position: relative;background-color: white;}#sk-container-id-16 div.sk-parallel-item:first-child::after {align-self: flex-end;width: 50%;}#sk-container-id-16 div.sk-parallel-item:last-child::after {align-self: flex-start;width: 50%;}#sk-container-id-16 div.sk-parallel-item:only-child::after {width: 0;}#sk-container-id-16 div.sk-dashed-wrapped {border: 1px dashed gray;margin: 0 0.4em 0.5em 0.4em;box-sizing: border-box;padding-bottom: 0.4em;background-color: white;}#sk-container-id-16 div.sk-label label {font-family: monospace;font-weight: bold;display: inline-block;line-height: 1.2em;}#sk-container-id-16 div.sk-label-container {text-align: center;}#sk-container-id-16 div.sk-container {/* jupyter's `normalize.less` sets `[hidden] { display: none; }` but bootstrap.min.css set `[hidden] { display: none !important; }` so we also need the `!important` here to be able to override the default hidden behavior on the sphinx rendered scikit-learn.org. See: https://github.com/scikit-learn/scikit-learn/issues/21755 */display: inline-block !important;position: relative;}#sk-container-id-16 div.sk-text-repr-fallback {display: none;}</style><div id=\"sk-container-id-16\" class=\"sk-top-container\"><div class=\"sk-text-repr-fallback\"><pre>Ridge(alpha=0.01, normalize=True)</pre><b>In a Jupyter environment, please rerun this cell to show the HTML representation or trust the notebook. <br />On GitHub, the HTML representation is unable to render, please try loading this page with nbviewer.org.</b></div><div class=\"sk-container\" hidden><div class=\"sk-item\"><div class=\"sk-estimator sk-toggleable\"><input class=\"sk-toggleable__control sk-hidden--visually\" id=\"sk-estimator-id-34\" type=\"checkbox\" checked><label for=\"sk-estimator-id-34\" class=\"sk-toggleable__label sk-toggleable__label-arrow\">Ridge</label><div class=\"sk-toggleable__content\"><pre>Ridge(alpha=0.01, normalize=True)</pre></div></div></div></div></div>"
      ],
      "text/plain": [
       "Ridge(alpha=0.01, normalize=True)"
      ]
     },
     "execution_count": 296,
     "metadata": {},
     "output_type": "execute_result"
    }
   ],
   "source": [
    "# Ridge regression to train the model and predict the price\n",
    "from sklearn.linear_model import Ridge\n",
    "ridge = Ridge(alpha=0.01, normalize=True)\n",
    "ridge.fit(X, y)"
   ]
  },
  {
   "cell_type": "code",
   "execution_count": 297,
   "metadata": {
    "collapsed": false
   },
   "outputs": [],
   "source": [
    "# predict the price of test data after removing the price\n",
    "test_pred = test_df.drop('price', axis=1)"
   ]
  },
  {
   "cell_type": "code",
   "execution_count": 298,
   "metadata": {
    "collapsed": false
   },
   "outputs": [
    {
     "data": {
      "text/plain": [
       "array([21.15898195, 23.32953517, 19.94787626, 21.48015262, 22.07417005,\n",
       "       27.46932593, 26.46712949, 22.50760214, 24.05216918, 27.14815526,\n",
       "       20.46160102, 21.38350479, 28.17560478, 21.5054057 , 21.99387738,\n",
       "       27.49457901, 26.18464324, 22.32733874, 20.35605527, 27.14815526,\n",
       "       24.05216918, 27.46932593, 24.61089496, 21.07197361, 27.06786259,\n",
       "       21.38350479, 28.49677545, 22.48792407, 22.97639575, 27.49457901,\n",
       "       25.18244681, 25.61309139, 27.14815526, 23.02471967, 27.17340834,\n",
       "       26.06566615, 23.40982784, 26.14595882, 22.38237832, 22.97639575,\n",
       "       28.17560478, 22.75798332, 26.698368  , 21.46379746, 26.18464324,\n",
       "       21.58569837, 23.49012051, 28.49677545, 22.4076314 , 26.46712949,\n",
       "       28.17560478, 22.38237832, 26.20989633, 28.09531211, 27.46932593,\n",
       "       27.21209276, 23.04997275, 22.48792407, 27.49457901, 25.53279872,\n",
       "       27.17340834, 27.17340834, 26.14595882, 27.09311567, 27.06786259,\n",
       "       23.74735368, 24.53060229, 24.90620728, 28.17560478, 26.1587849 ,\n",
       "       24.05216918, 23.49012051, 28.09531211, 22.30208566, 28.49677545,\n",
       "       27.17340834, 22.46267099, 27.09311567, 26.18464324, 22.4076314 ,\n",
       "       22.43681265, 23.40982784, 23.87875777, 26.20989633, 25.58723305,\n",
       "       26.06566615, 25.61309139, 23.02471967, 26.14595882, 25.15658847,\n",
       "       26.698368  , 25.07350829, 23.04997275, 21.46047456, 26.64054091,\n",
       "       25.15658847, 25.55805181, 26.56024824, 21.29988922, 26.1587849 ,\n",
       "       21.07197361, 27.21209276, 22.46267099, 22.46267099, 25.61309139,\n",
       "       21.46047456, 23.49012051, 23.77260676, 25.53279872, 23.04997275,\n",
       "       23.40982784, 24.61089496, 27.17340834, 25.13133539, 24.05216918,\n",
       "       25.18244681, 24.77480319, 22.74515724, 26.64054091, 26.56024824,\n",
       "       21.38350479, 22.58789481, 26.56024824, 24.55978353, 25.55805181,\n",
       "       24.90620728, 26.46712949, 24.61089496, 23.04997275, 23.40982784,\n",
       "       26.56024824, 25.53279872, 24.12913895, 26.64054091, 24.53060229,\n",
       "       23.87875777, 24.90620728, 23.87875777, 24.53060229, 28.49677545,\n",
       "       24.8809542 , 23.29085075])"
      ]
     },
     "execution_count": 298,
     "metadata": {},
     "output_type": "execute_result"
    }
   ],
   "source": [
    "predicted_df = ridge.predict(test_pred)\n",
    "predicted_df"
   ]
  },
  {
   "cell_type": "code",
   "execution_count": 299,
   "metadata": {},
   "outputs": [
    {
     "data": {
      "text/html": [
       "<div>\n",
       "<style scoped>\n",
       "    .dataframe tbody tr th:only-of-type {\n",
       "        vertical-align: middle;\n",
       "    }\n",
       "\n",
       "    .dataframe tbody tr th {\n",
       "        vertical-align: top;\n",
       "    }\n",
       "\n",
       "    .dataframe thead th {\n",
       "        text-align: right;\n",
       "    }\n",
       "</style>\n",
       "<table border=\"1\" class=\"dataframe\">\n",
       "  <thead>\n",
       "    <tr style=\"text-align: right;\">\n",
       "      <th></th>\n",
       "      <th>division</th>\n",
       "      <th>district</th>\n",
       "      <th>upazila</th>\n",
       "      <th>bazar</th>\n",
       "      <th>merchandise</th>\n",
       "      <th>year</th>\n",
       "      <th>price</th>\n",
       "      <th>predicted_price</th>\n",
       "    </tr>\n",
       "  </thead>\n",
       "  <tbody>\n",
       "    <tr>\n",
       "      <th>0</th>\n",
       "      <td>Barisal</td>\n",
       "      <td>Jhalakathi</td>\n",
       "      <td>Jhalakathi Sadar</td>\n",
       "      <td>Jhalakathi Sadar</td>\n",
       "      <td>Boro</td>\n",
       "      <td>2021</td>\n",
       "      <td>18.69</td>\n",
       "      <td>21.158982</td>\n",
       "    </tr>\n",
       "    <tr>\n",
       "      <th>1</th>\n",
       "      <td>Dhaka</td>\n",
       "      <td>Tangail</td>\n",
       "      <td>Tangail Sadar Bazar</td>\n",
       "      <td>Tangail Sadar Bazar</td>\n",
       "      <td>Aman</td>\n",
       "      <td>2021</td>\n",
       "      <td>20.50</td>\n",
       "      <td>23.329535</td>\n",
       "    </tr>\n",
       "    <tr>\n",
       "      <th>2</th>\n",
       "      <td>Barisal</td>\n",
       "      <td>Patuakhali</td>\n",
       "      <td>Patuakhali Sadar</td>\n",
       "      <td>Patuakhali Sadar</td>\n",
       "      <td>Aus</td>\n",
       "      <td>2022</td>\n",
       "      <td>21.00</td>\n",
       "      <td>19.947876</td>\n",
       "    </tr>\n",
       "    <tr>\n",
       "      <th>3</th>\n",
       "      <td>Barisal</td>\n",
       "      <td>Bhola</td>\n",
       "      <td>Bhola Sadar</td>\n",
       "      <td>Bhola Sadar</td>\n",
       "      <td>Boro</td>\n",
       "      <td>2021</td>\n",
       "      <td>21.50</td>\n",
       "      <td>21.480153</td>\n",
       "    </tr>\n",
       "    <tr>\n",
       "      <th>4</th>\n",
       "      <td>Barisal</td>\n",
       "      <td>Barguna</td>\n",
       "      <td>Barguna Sadar</td>\n",
       "      <td>Barguna Sadar</td>\n",
       "      <td>Aus</td>\n",
       "      <td>2021</td>\n",
       "      <td>21.53</td>\n",
       "      <td>22.074170</td>\n",
       "    </tr>\n",
       "    <tr>\n",
       "      <th>...</th>\n",
       "      <td>...</td>\n",
       "      <td>...</td>\n",
       "      <td>...</td>\n",
       "      <td>...</td>\n",
       "      <td>...</td>\n",
       "      <td>...</td>\n",
       "      <td>...</td>\n",
       "      <td>...</td>\n",
       "    </tr>\n",
       "    <tr>\n",
       "      <th>137</th>\n",
       "      <td>Khulna</td>\n",
       "      <td>Jessore</td>\n",
       "      <td>Headquarter of Jessore</td>\n",
       "      <td>Headquarter of Jessore</td>\n",
       "      <td>Boro</td>\n",
       "      <td>2022</td>\n",
       "      <td>38.59</td>\n",
       "      <td>23.878758</td>\n",
       "    </tr>\n",
       "    <tr>\n",
       "      <th>138</th>\n",
       "      <td>Rajshahi</td>\n",
       "      <td>Natore</td>\n",
       "      <td>Natore Sadar</td>\n",
       "      <td>Natore Sadar</td>\n",
       "      <td>Boro</td>\n",
       "      <td>2022</td>\n",
       "      <td>39.71</td>\n",
       "      <td>24.530602</td>\n",
       "    </tr>\n",
       "    <tr>\n",
       "      <th>139</th>\n",
       "      <td>Rangpur</td>\n",
       "      <td>Gaibandha</td>\n",
       "      <td>Gaibandha Sadar</td>\n",
       "      <td>Gaibandha Sadar</td>\n",
       "      <td>Aman</td>\n",
       "      <td>2021</td>\n",
       "      <td>41.00</td>\n",
       "      <td>28.496775</td>\n",
       "    </tr>\n",
       "    <tr>\n",
       "      <th>140</th>\n",
       "      <td>Khulna</td>\n",
       "      <td>Jessore</td>\n",
       "      <td>Headquarter of Jessore</td>\n",
       "      <td>Headquarter of Jessore</td>\n",
       "      <td>Boro</td>\n",
       "      <td>2021</td>\n",
       "      <td>44.82</td>\n",
       "      <td>24.880954</td>\n",
       "    </tr>\n",
       "    <tr>\n",
       "      <th>141</th>\n",
       "      <td>Dhaka</td>\n",
       "      <td>Mymensingh</td>\n",
       "      <td>Mymensingh Sadar</td>\n",
       "      <td>Mymensingh Sadar</td>\n",
       "      <td>Aman</td>\n",
       "      <td>2022</td>\n",
       "      <td>50.00</td>\n",
       "      <td>23.290851</td>\n",
       "    </tr>\n",
       "  </tbody>\n",
       "</table>\n",
       "<p>142 rows × 8 columns</p>\n",
       "</div>"
      ],
      "text/plain": [
       "     division    district                 upazila                   bazar  \\\n",
       "0     Barisal  Jhalakathi        Jhalakathi Sadar        Jhalakathi Sadar   \n",
       "1       Dhaka     Tangail     Tangail Sadar Bazar     Tangail Sadar Bazar   \n",
       "2     Barisal  Patuakhali        Patuakhali Sadar        Patuakhali Sadar   \n",
       "3     Barisal       Bhola             Bhola Sadar             Bhola Sadar   \n",
       "4     Barisal     Barguna           Barguna Sadar           Barguna Sadar   \n",
       "..        ...         ...                     ...                     ...   \n",
       "137    Khulna     Jessore  Headquarter of Jessore  Headquarter of Jessore   \n",
       "138  Rajshahi      Natore            Natore Sadar            Natore Sadar   \n",
       "139   Rangpur   Gaibandha         Gaibandha Sadar         Gaibandha Sadar   \n",
       "140    Khulna     Jessore  Headquarter of Jessore  Headquarter of Jessore   \n",
       "141     Dhaka  Mymensingh        Mymensingh Sadar        Mymensingh Sadar   \n",
       "\n",
       "    merchandise  year  price  predicted_price  \n",
       "0          Boro  2021  18.69        21.158982  \n",
       "1          Aman  2021  20.50        23.329535  \n",
       "2           Aus  2022  21.00        19.947876  \n",
       "3          Boro  2021  21.50        21.480153  \n",
       "4           Aus  2021  21.53        22.074170  \n",
       "..          ...   ...    ...              ...  \n",
       "137        Boro  2022  38.59        23.878758  \n",
       "138        Boro  2022  39.71        24.530602  \n",
       "139        Aman  2021  41.00        28.496775  \n",
       "140        Boro  2021  44.82        24.880954  \n",
       "141        Aman  2022  50.00        23.290851  \n",
       "\n",
       "[142 rows x 8 columns]"
      ]
     },
     "execution_count": 299,
     "metadata": {},
     "output_type": "execute_result"
    }
   ],
   "source": [
    "# merge the prediction dataframe with test dataframe renaming price to predicted price\n",
    "predicted_df = pd.DataFrame(predicted_df, columns=['predicted_price'])\n",
    "\n",
    "predicted_df = pd.concat([actual_df, predicted_df], axis=1)\n",
    "\n",
    "predicted_df"
   ]
  },
  {
   "cell_type": "code",
   "execution_count": 302,
   "metadata": {},
   "outputs": [
    {
     "name": "stderr",
     "output_type": "stream",
     "text": [
      "c:\\users\\errhy\\appdata\\local\\programs\\python\\python39\\lib\\site-packages\\seaborn\\_decorators.py:36: FutureWarning: Pass the following variables as keyword args: x, y. From version 0.12, the only valid positional argument will be `data`, and passing other arguments without an explicit keyword will result in an error or misinterpretation.\n",
      "  warnings.warn(\n",
      "c:\\users\\errhy\\appdata\\local\\programs\\python\\python39\\lib\\site-packages\\seaborn\\_decorators.py:36: FutureWarning: Pass the following variables as keyword args: x, y. From version 0.12, the only valid positional argument will be `data`, and passing other arguments without an explicit keyword will result in an error or misinterpretation.\n",
      "  warnings.warn(\n"
     ]
    },
    {
     "data": {
      "image/png": "[encoded data removed]",
      "text/plain": [
       "<Figure size 1296x504 with 1 Axes>"
      ]
     },
     "metadata": {
      "needs_background": "light"
     },
     "output_type": "display_data"
    }
   ],
   "source": [
    "# compare the price and predicted price with seaborn barplot\n",
    "plt.figure(figsize= (18, 7))\n",
    "sns.barplot(predicted_df['division'], predicted_df['price'], color= 'blue', label= 'Actual Price')\n",
    "sns.barplot(predicted_df['division'], predicted_df['predicted_price'], color= 'red', label= 'Predicted Price')\n",
    "plt.xlabel('Divisions', fontsize= 12)\n",
    "plt.ylabel('Price', fontsize= 12)\n",
    "plt.title('Actual Price vs Predicted Price', fontsize= 15)\n",
    "plt.legend()\n",
    "plt.savefig('images/ridge_barplot.pdf')\n",
    "plt.show()"
   ]
  },
  {
   "cell_type": "code",
   "execution_count": 303,
   "metadata": {
    "collapsed": false
   },
   "outputs": [
    {
     "name": "stderr",
     "output_type": "stream",
     "text": [
      "c:\\users\\errhy\\appdata\\local\\programs\\python\\python39\\lib\\site-packages\\seaborn\\_decorators.py:36: FutureWarning: Pass the following variables as keyword args: x, y. From version 0.12, the only valid positional argument will be `data`, and passing other arguments without an explicit keyword will result in an error or misinterpretation.\n",
      "  warnings.warn(\n"
     ]
    },
    {
     "data": {
      "image/png": "[encoded data removed]",
      "text/plain": [
       "<Figure size 1296x504 with 1 Axes>"
      ]
     },
     "metadata": {
      "needs_background": "light"
     },
     "output_type": "display_data"
    }
   ],
   "source": [
    "# make a scatterplot by seaborn comparing the actual price and predicted price\n",
    "plt.figure(figsize= (18, 7))\n",
    "sns.scatterplot(predicted_df['price'], predicted_df['predicted_price'])\n",
    "plt.xlabel('Actual Price', fontsize= 12)\n",
    "plt.ylabel('Predicted Price', fontsize= 12)\n",
    "plt.title('Actual Price vs Predicted Price', fontsize= 15)\n",
    "plt.savefig('images/ridge_scatter.pdf')\n",
    "plt.show()"
   ]
  },
  {
   "attachments": {},
   "cell_type": "markdown",
   "metadata": {},
   "source": [
    "## DecisionTree"
   ]
  },
  {
   "cell_type": "code",
   "execution_count": 316,
   "metadata": {},
   "outputs": [
    {
     "data": {
      "text/html": [
       "<style>#sk-container-id-17 {color: black;background-color: white;}#sk-container-id-17 pre{padding: 0;}#sk-container-id-17 div.sk-toggleable {background-color: white;}#sk-container-id-17 label.sk-toggleable__label {cursor: pointer;display: block;width: 100%;margin-bottom: 0;padding: 0.3em;box-sizing: border-box;text-align: center;}#sk-container-id-17 label.sk-toggleable__label-arrow:before {content: \"▸\";float: left;margin-right: 0.25em;color: #696969;}#sk-container-id-17 label.sk-toggleable__label-arrow:hover:before {color: black;}#sk-container-id-17 div.sk-estimator:hover label.sk-toggleable__label-arrow:before {color: black;}#sk-container-id-17 div.sk-toggleable__content {max-height: 0;max-width: 0;overflow: hidden;text-align: left;background-color: #f0f8ff;}#sk-container-id-17 div.sk-toggleable__content pre {margin: 0.2em;color: black;border-radius: 0.25em;background-color: #f0f8ff;}#sk-container-id-17 input.sk-toggleable__control:checked~div.sk-toggleable__content {max-height: 200px;max-width: 100%;overflow: auto;}#sk-container-id-17 input.sk-toggleable__control:checked~label.sk-toggleable__label-arrow:before {content: \"▾\";}#sk-container-id-17 div.sk-estimator input.sk-toggleable__control:checked~label.sk-toggleable__label {background-color: #d4ebff;}#sk-container-id-17 div.sk-label input.sk-toggleable__control:checked~label.sk-toggleable__label {background-color: #d4ebff;}#sk-container-id-17 input.sk-hidden--visually {border: 0;clip: rect(1px 1px 1px 1px);clip: rect(1px, 1px, 1px, 1px);height: 1px;margin: -1px;overflow: hidden;padding: 0;position: absolute;width: 1px;}#sk-container-id-17 div.sk-estimator {font-family: monospace;background-color: #f0f8ff;border: 1px dotted black;border-radius: 0.25em;box-sizing: border-box;margin-bottom: 0.5em;}#sk-container-id-17 div.sk-estimator:hover {background-color: #d4ebff;}#sk-container-id-17 div.sk-parallel-item::after {content: \"\";width: 100%;border-bottom: 1px solid gray;flex-grow: 1;}#sk-container-id-17 div.sk-label:hover label.sk-toggleable__label {background-color: #d4ebff;}#sk-container-id-17 div.sk-serial::before {content: \"\";position: absolute;border-left: 1px solid gray;box-sizing: border-box;top: 0;bottom: 0;left: 50%;z-index: 0;}#sk-container-id-17 div.sk-serial {display: flex;flex-direction: column;align-items: center;background-color: white;padding-right: 0.2em;padding-left: 0.2em;position: relative;}#sk-container-id-17 div.sk-item {position: relative;z-index: 1;}#sk-container-id-17 div.sk-parallel {display: flex;align-items: stretch;justify-content: center;background-color: white;position: relative;}#sk-container-id-17 div.sk-item::before, #sk-container-id-17 div.sk-parallel-item::before {content: \"\";position: absolute;border-left: 1px solid gray;box-sizing: border-box;top: 0;bottom: 0;left: 50%;z-index: -1;}#sk-container-id-17 div.sk-parallel-item {display: flex;flex-direction: column;z-index: 1;position: relative;background-color: white;}#sk-container-id-17 div.sk-parallel-item:first-child::after {align-self: flex-end;width: 50%;}#sk-container-id-17 div.sk-parallel-item:last-child::after {align-self: flex-start;width: 50%;}#sk-container-id-17 div.sk-parallel-item:only-child::after {width: 0;}#sk-container-id-17 div.sk-dashed-wrapped {border: 1px dashed gray;margin: 0 0.4em 0.5em 0.4em;box-sizing: border-box;padding-bottom: 0.4em;background-color: white;}#sk-container-id-17 div.sk-label label {font-family: monospace;font-weight: bold;display: inline-block;line-height: 1.2em;}#sk-container-id-17 div.sk-label-container {text-align: center;}#sk-container-id-17 div.sk-container {/* jupyter's `normalize.less` sets `[hidden] { display: none; }` but bootstrap.min.css set `[hidden] { display: none !important; }` so we also need the `!important` here to be able to override the default hidden behavior on the sphinx rendered scikit-learn.org. See: https://github.com/scikit-learn/scikit-learn/issues/21755 */display: inline-block !important;position: relative;}#sk-container-id-17 div.sk-text-repr-fallback {display: none;}</style><div id=\"sk-container-id-17\" class=\"sk-top-container\"><div class=\"sk-text-repr-fallback\"><pre>DecisionTreeRegressor()</pre><b>In a Jupyter environment, please rerun this cell to show the HTML representation or trust the notebook. <br />On GitHub, the HTML representation is unable to render, please try loading this page with nbviewer.org.</b></div><div class=\"sk-container\" hidden><div class=\"sk-item\"><div class=\"sk-estimator sk-toggleable\"><input class=\"sk-toggleable__control sk-hidden--visually\" id=\"sk-estimator-id-35\" type=\"checkbox\" checked><label for=\"sk-estimator-id-35\" class=\"sk-toggleable__label sk-toggleable__label-arrow\">DecisionTreeRegressor</label><div class=\"sk-toggleable__content\"><pre>DecisionTreeRegressor()</pre></div></div></div></div></div>"
      ],
      "text/plain": [
       "DecisionTreeRegressor()"
      ]
     },
     "execution_count": 316,
     "metadata": {},
     "output_type": "execute_result"
    }
   ],
   "source": [
    "from sklearn.tree import DecisionTreeRegressor\n",
    "\n",
    "dt = DecisionTreeRegressor()\n",
    "\n",
    "dt.fit(X, y)"
   ]
  },
  {
   "cell_type": "code",
   "execution_count": 317,
   "metadata": {},
   "outputs": [],
   "source": [
    "# predict the price\n",
    "y_pred = dt.predict(test_pred)"
   ]
  },
  {
   "cell_type": "code",
   "execution_count": 318,
   "metadata": {},
   "outputs": [
    {
     "data": {
      "text/html": [
       "<div>\n",
       "<style scoped>\n",
       "    .dataframe tbody tr th:only-of-type {\n",
       "        vertical-align: middle;\n",
       "    }\n",
       "\n",
       "    .dataframe tbody tr th {\n",
       "        vertical-align: top;\n",
       "    }\n",
       "\n",
       "    .dataframe thead th {\n",
       "        text-align: right;\n",
       "    }\n",
       "</style>\n",
       "<table border=\"1\" class=\"dataframe\">\n",
       "  <thead>\n",
       "    <tr style=\"text-align: right;\">\n",
       "      <th></th>\n",
       "      <th>division</th>\n",
       "      <th>district</th>\n",
       "      <th>upazila</th>\n",
       "      <th>bazar</th>\n",
       "      <th>merchandise</th>\n",
       "      <th>year</th>\n",
       "      <th>price</th>\n",
       "      <th>predicted_price</th>\n",
       "    </tr>\n",
       "  </thead>\n",
       "  <tbody>\n",
       "    <tr>\n",
       "      <th>0</th>\n",
       "      <td>Barisal</td>\n",
       "      <td>Jhalakathi</td>\n",
       "      <td>Jhalakathi Sadar</td>\n",
       "      <td>Jhalakathi Sadar</td>\n",
       "      <td>Boro</td>\n",
       "      <td>2021</td>\n",
       "      <td>18.69</td>\n",
       "      <td>21.500000</td>\n",
       "    </tr>\n",
       "    <tr>\n",
       "      <th>1</th>\n",
       "      <td>Dhaka</td>\n",
       "      <td>Tangail</td>\n",
       "      <td>Tangail Sadar Bazar</td>\n",
       "      <td>Tangail Sadar Bazar</td>\n",
       "      <td>Aman</td>\n",
       "      <td>2021</td>\n",
       "      <td>20.50</td>\n",
       "      <td>28.963333</td>\n",
       "    </tr>\n",
       "    <tr>\n",
       "      <th>2</th>\n",
       "      <td>Barisal</td>\n",
       "      <td>Patuakhali</td>\n",
       "      <td>Patuakhali Sadar</td>\n",
       "      <td>Patuakhali Sadar</td>\n",
       "      <td>Aus</td>\n",
       "      <td>2022</td>\n",
       "      <td>21.00</td>\n",
       "      <td>17.910000</td>\n",
       "    </tr>\n",
       "    <tr>\n",
       "      <th>3</th>\n",
       "      <td>Barisal</td>\n",
       "      <td>Bhola</td>\n",
       "      <td>Bhola Sadar</td>\n",
       "      <td>Bhola Sadar</td>\n",
       "      <td>Boro</td>\n",
       "      <td>2021</td>\n",
       "      <td>21.50</td>\n",
       "      <td>21.910000</td>\n",
       "    </tr>\n",
       "    <tr>\n",
       "      <th>4</th>\n",
       "      <td>Barisal</td>\n",
       "      <td>Barguna</td>\n",
       "      <td>Barguna Sadar</td>\n",
       "      <td>Barguna Sadar</td>\n",
       "      <td>Aus</td>\n",
       "      <td>2021</td>\n",
       "      <td>21.53</td>\n",
       "      <td>21.910000</td>\n",
       "    </tr>\n",
       "    <tr>\n",
       "      <th>...</th>\n",
       "      <td>...</td>\n",
       "      <td>...</td>\n",
       "      <td>...</td>\n",
       "      <td>...</td>\n",
       "      <td>...</td>\n",
       "      <td>...</td>\n",
       "      <td>...</td>\n",
       "      <td>...</td>\n",
       "    </tr>\n",
       "    <tr>\n",
       "      <th>137</th>\n",
       "      <td>Khulna</td>\n",
       "      <td>Jessore</td>\n",
       "      <td>Headquarter of Jessore</td>\n",
       "      <td>Headquarter of Jessore</td>\n",
       "      <td>Boro</td>\n",
       "      <td>2022</td>\n",
       "      <td>38.59</td>\n",
       "      <td>21.500000</td>\n",
       "    </tr>\n",
       "    <tr>\n",
       "      <th>138</th>\n",
       "      <td>Rajshahi</td>\n",
       "      <td>Natore</td>\n",
       "      <td>Natore Sadar</td>\n",
       "      <td>Natore Sadar</td>\n",
       "      <td>Boro</td>\n",
       "      <td>2022</td>\n",
       "      <td>39.71</td>\n",
       "      <td>87.820000</td>\n",
       "    </tr>\n",
       "    <tr>\n",
       "      <th>139</th>\n",
       "      <td>Rangpur</td>\n",
       "      <td>Gaibandha</td>\n",
       "      <td>Gaibandha Sadar</td>\n",
       "      <td>Gaibandha Sadar</td>\n",
       "      <td>Aman</td>\n",
       "      <td>2021</td>\n",
       "      <td>41.00</td>\n",
       "      <td>23.355000</td>\n",
       "    </tr>\n",
       "    <tr>\n",
       "      <th>140</th>\n",
       "      <td>Khulna</td>\n",
       "      <td>Jessore</td>\n",
       "      <td>Headquarter of Jessore</td>\n",
       "      <td>Headquarter of Jessore</td>\n",
       "      <td>Boro</td>\n",
       "      <td>2021</td>\n",
       "      <td>44.82</td>\n",
       "      <td>21.500000</td>\n",
       "    </tr>\n",
       "    <tr>\n",
       "      <th>141</th>\n",
       "      <td>Dhaka</td>\n",
       "      <td>Mymensingh</td>\n",
       "      <td>Mymensingh Sadar</td>\n",
       "      <td>Mymensingh Sadar</td>\n",
       "      <td>Aman</td>\n",
       "      <td>2022</td>\n",
       "      <td>50.00</td>\n",
       "      <td>46.535000</td>\n",
       "    </tr>\n",
       "  </tbody>\n",
       "</table>\n",
       "<p>142 rows × 8 columns</p>\n",
       "</div>"
      ],
      "text/plain": [
       "     division    district                 upazila                   bazar  \\\n",
       "0     Barisal  Jhalakathi        Jhalakathi Sadar        Jhalakathi Sadar   \n",
       "1       Dhaka     Tangail     Tangail Sadar Bazar     Tangail Sadar Bazar   \n",
       "2     Barisal  Patuakhali        Patuakhali Sadar        Patuakhali Sadar   \n",
       "3     Barisal       Bhola             Bhola Sadar             Bhola Sadar   \n",
       "4     Barisal     Barguna           Barguna Sadar           Barguna Sadar   \n",
       "..        ...         ...                     ...                     ...   \n",
       "137    Khulna     Jessore  Headquarter of Jessore  Headquarter of Jessore   \n",
       "138  Rajshahi      Natore            Natore Sadar            Natore Sadar   \n",
       "139   Rangpur   Gaibandha         Gaibandha Sadar         Gaibandha Sadar   \n",
       "140    Khulna     Jessore  Headquarter of Jessore  Headquarter of Jessore   \n",
       "141     Dhaka  Mymensingh        Mymensingh Sadar        Mymensingh Sadar   \n",
       "\n",
       "    merchandise  year  price  predicted_price  \n",
       "0          Boro  2021  18.69        21.500000  \n",
       "1          Aman  2021  20.50        28.963333  \n",
       "2           Aus  2022  21.00        17.910000  \n",
       "3          Boro  2021  21.50        21.910000  \n",
       "4           Aus  2021  21.53        21.910000  \n",
       "..          ...   ...    ...              ...  \n",
       "137        Boro  2022  38.59        21.500000  \n",
       "138        Boro  2022  39.71        87.820000  \n",
       "139        Aman  2021  41.00        23.355000  \n",
       "140        Boro  2021  44.82        21.500000  \n",
       "141        Aman  2022  50.00        46.535000  \n",
       "\n",
       "[142 rows x 8 columns]"
      ]
     },
     "execution_count": 318,
     "metadata": {},
     "output_type": "execute_result"
    }
   ],
   "source": [
    "# add the predicted price to the test data after renaming the column to predicted_price\n",
    "\n",
    "actual_df['predicted_price'] = y_pred\n",
    "\n",
    "test_df = actual_df.copy()\n",
    "\n",
    "test_df"
   ]
  },
  {
   "cell_type": "code",
   "execution_count": 319,
   "metadata": {},
   "outputs": [
    {
     "name": "stderr",
     "output_type": "stream",
     "text": [
      "c:\\users\\errhy\\appdata\\local\\programs\\python\\python39\\lib\\site-packages\\seaborn\\_decorators.py:36: FutureWarning: Pass the following variables as keyword args: x, y. From version 0.12, the only valid positional argument will be `data`, and passing other arguments without an explicit keyword will result in an error or misinterpretation.\n",
      "  warnings.warn(\n",
      "c:\\users\\errhy\\appdata\\local\\programs\\python\\python39\\lib\\site-packages\\seaborn\\_decorators.py:36: FutureWarning: Pass the following variables as keyword args: x, y. From version 0.12, the only valid positional argument will be `data`, and passing other arguments without an explicit keyword will result in an error or misinterpretation.\n",
      "  warnings.warn(\n"
     ]
    },
    {
     "data": {
      "image/png": "[encoded data removed]",
      "text/plain": [
       "<Figure size 1296x504 with 1 Axes>"
      ]
     },
     "metadata": {
      "needs_background": "light"
     },
     "output_type": "display_data"
    }
   ],
   "source": [
    "# compare the price and predicted price with seaborn barplot\n",
    "plt.figure(figsize= (18, 7))\n",
    "sns.barplot(test_df['division'], test_df['predicted_price'], color= 'red', label= 'Predicted Price')\n",
    "sns.barplot(test_df['division'], test_df['price'], color= 'blue', label= 'Actual Price')\n",
    "plt.xlabel('Divisions', fontsize= 12)\n",
    "plt.ylabel('Price', fontsize= 12)\n",
    "plt.title('Actual Price vs Predicted Price', fontsize= 15)\n",
    "plt.legend()\n",
    "plt.savefig('images/dt_barplot.pdf')\n",
    "plt.show()"
   ]
  },
  {
   "cell_type": "code",
   "execution_count": 320,
   "metadata": {
    "collapsed": false
   },
   "outputs": [
    {
     "name": "stderr",
     "output_type": "stream",
     "text": [
      "c:\\users\\errhy\\appdata\\local\\programs\\python\\python39\\lib\\site-packages\\seaborn\\_decorators.py:36: FutureWarning: Pass the following variables as keyword args: x, y. From version 0.12, the only valid positional argument will be `data`, and passing other arguments without an explicit keyword will result in an error or misinterpretation.\n",
      "  warnings.warn(\n"
     ]
    },
    {
     "data": {
      "image/png": "[encoded data removed]",
      "text/plain": [
       "<Figure size 1296x504 with 1 Axes>"
      ]
     },
     "metadata": {
      "needs_background": "light"
     },
     "output_type": "display_data"
    }
   ],
   "source": [
    "# make a scatterplot by seaborn comparing the actual price and predicted price\n",
    "plt.figure(figsize= (18, 7))\n",
    "sns.scatterplot(predicted_df['price'], predicted_df['predicted_price'])\n",
    "plt.xlabel('Actual Price', fontsize= 12)\n",
    "plt.ylabel('Predicted Price', fontsize= 12)\n",
    "plt.title('Actual Price vs Predicted Price', fontsize= 15)\n",
    "plt.savefig('images/dt_scatter.pdf')\n",
    "plt.show()"
   ]
  },
  {
   "attachments": {},
   "cell_type": "markdown",
   "metadata": {},
   "source": [
    "## LightGBM"
   ]
  },
  {
   "cell_type": "code",
   "execution_count": 333,
   "metadata": {},
   "outputs": [
    {
     "data": {
      "text/html": [
       "<style>#sk-container-id-18 {color: black;background-color: white;}#sk-container-id-18 pre{padding: 0;}#sk-container-id-18 div.sk-toggleable {background-color: white;}#sk-container-id-18 label.sk-toggleable__label {cursor: pointer;display: block;width: 100%;margin-bottom: 0;padding: 0.3em;box-sizing: border-box;text-align: center;}#sk-container-id-18 label.sk-toggleable__label-arrow:before {content: \"▸\";float: left;margin-right: 0.25em;color: #696969;}#sk-container-id-18 label.sk-toggleable__label-arrow:hover:before {color: black;}#sk-container-id-18 div.sk-estimator:hover label.sk-toggleable__label-arrow:before {color: black;}#sk-container-id-18 div.sk-toggleable__content {max-height: 0;max-width: 0;overflow: hidden;text-align: left;background-color: #f0f8ff;}#sk-container-id-18 div.sk-toggleable__content pre {margin: 0.2em;color: black;border-radius: 0.25em;background-color: #f0f8ff;}#sk-container-id-18 input.sk-toggleable__control:checked~div.sk-toggleable__content {max-height: 200px;max-width: 100%;overflow: auto;}#sk-container-id-18 input.sk-toggleable__control:checked~label.sk-toggleable__label-arrow:before {content: \"▾\";}#sk-container-id-18 div.sk-estimator input.sk-toggleable__control:checked~label.sk-toggleable__label {background-color: #d4ebff;}#sk-container-id-18 div.sk-label input.sk-toggleable__control:checked~label.sk-toggleable__label {background-color: #d4ebff;}#sk-container-id-18 input.sk-hidden--visually {border: 0;clip: rect(1px 1px 1px 1px);clip: rect(1px, 1px, 1px, 1px);height: 1px;margin: -1px;overflow: hidden;padding: 0;position: absolute;width: 1px;}#sk-container-id-18 div.sk-estimator {font-family: monospace;background-color: #f0f8ff;border: 1px dotted black;border-radius: 0.25em;box-sizing: border-box;margin-bottom: 0.5em;}#sk-container-id-18 div.sk-estimator:hover {background-color: #d4ebff;}#sk-container-id-18 div.sk-parallel-item::after {content: \"\";width: 100%;border-bottom: 1px solid gray;flex-grow: 1;}#sk-container-id-18 div.sk-label:hover label.sk-toggleable__label {background-color: #d4ebff;}#sk-container-id-18 div.sk-serial::before {content: \"\";position: absolute;border-left: 1px solid gray;box-sizing: border-box;top: 0;bottom: 0;left: 50%;z-index: 0;}#sk-container-id-18 div.sk-serial {display: flex;flex-direction: column;align-items: center;background-color: white;padding-right: 0.2em;padding-left: 0.2em;position: relative;}#sk-container-id-18 div.sk-item {position: relative;z-index: 1;}#sk-container-id-18 div.sk-parallel {display: flex;align-items: stretch;justify-content: center;background-color: white;position: relative;}#sk-container-id-18 div.sk-item::before, #sk-container-id-18 div.sk-parallel-item::before {content: \"\";position: absolute;border-left: 1px solid gray;box-sizing: border-box;top: 0;bottom: 0;left: 50%;z-index: -1;}#sk-container-id-18 div.sk-parallel-item {display: flex;flex-direction: column;z-index: 1;position: relative;background-color: white;}#sk-container-id-18 div.sk-parallel-item:first-child::after {align-self: flex-end;width: 50%;}#sk-container-id-18 div.sk-parallel-item:last-child::after {align-self: flex-start;width: 50%;}#sk-container-id-18 div.sk-parallel-item:only-child::after {width: 0;}#sk-container-id-18 div.sk-dashed-wrapped {border: 1px dashed gray;margin: 0 0.4em 0.5em 0.4em;box-sizing: border-box;padding-bottom: 0.4em;background-color: white;}#sk-container-id-18 div.sk-label label {font-family: monospace;font-weight: bold;display: inline-block;line-height: 1.2em;}#sk-container-id-18 div.sk-label-container {text-align: center;}#sk-container-id-18 div.sk-container {/* jupyter's `normalize.less` sets `[hidden] { display: none; }` but bootstrap.min.css set `[hidden] { display: none !important; }` so we also need the `!important` here to be able to override the default hidden behavior on the sphinx rendered scikit-learn.org. See: https://github.com/scikit-learn/scikit-learn/issues/21755 */display: inline-block !important;position: relative;}#sk-container-id-18 div.sk-text-repr-fallback {display: none;}</style><div id=\"sk-container-id-18\" class=\"sk-top-container\"><div class=\"sk-text-repr-fallback\"><pre>LGBMRegressor()</pre><b>In a Jupyter environment, please rerun this cell to show the HTML representation or trust the notebook. <br />On GitHub, the HTML representation is unable to render, please try loading this page with nbviewer.org.</b></div><div class=\"sk-container\" hidden><div class=\"sk-item\"><div class=\"sk-estimator sk-toggleable\"><input class=\"sk-toggleable__control sk-hidden--visually\" id=\"sk-estimator-id-36\" type=\"checkbox\" checked><label for=\"sk-estimator-id-36\" class=\"sk-toggleable__label sk-toggleable__label-arrow\">LGBMRegressor</label><div class=\"sk-toggleable__content\"><pre>LGBMRegressor()</pre></div></div></div></div></div>"
      ],
      "text/plain": [
       "LGBMRegressor()"
      ]
     },
     "execution_count": 333,
     "metadata": {},
     "output_type": "execute_result"
    }
   ],
   "source": [
    "# make a lightgbm model\n",
    "model = lgb.LGBMRegressor()\n",
    "model.fit(X, y)"
   ]
  },
  {
   "cell_type": "code",
   "execution_count": 334,
   "metadata": {
    "collapsed": false
   },
   "outputs": [],
   "source": [
    "pred = model.predict(test_pred)"
   ]
  },
  {
   "cell_type": "code",
   "execution_count": 335,
   "metadata": {},
   "outputs": [],
   "source": [
    "# make a dataframe of prediction\n",
    "pred_df = pd.DataFrame(pred, columns=['price'])"
   ]
  },
  {
   "cell_type": "code",
   "execution_count": 336,
   "metadata": {},
   "outputs": [
    {
     "data": {
      "text/html": [
       "<div>\n",
       "<style scoped>\n",
       "    .dataframe tbody tr th:only-of-type {\n",
       "        vertical-align: middle;\n",
       "    }\n",
       "\n",
       "    .dataframe tbody tr th {\n",
       "        vertical-align: top;\n",
       "    }\n",
       "\n",
       "    .dataframe thead th {\n",
       "        text-align: right;\n",
       "    }\n",
       "</style>\n",
       "<table border=\"1\" class=\"dataframe\">\n",
       "  <thead>\n",
       "    <tr style=\"text-align: right;\">\n",
       "      <th></th>\n",
       "      <th>price</th>\n",
       "    </tr>\n",
       "  </thead>\n",
       "  <tbody>\n",
       "    <tr>\n",
       "      <th>0</th>\n",
       "      <td>38.413509</td>\n",
       "    </tr>\n",
       "    <tr>\n",
       "      <th>1</th>\n",
       "      <td>29.075532</td>\n",
       "    </tr>\n",
       "    <tr>\n",
       "      <th>2</th>\n",
       "      <td>28.151558</td>\n",
       "    </tr>\n",
       "    <tr>\n",
       "      <th>3</th>\n",
       "      <td>28.128069</td>\n",
       "    </tr>\n",
       "    <tr>\n",
       "      <th>4</th>\n",
       "      <td>20.231084</td>\n",
       "    </tr>\n",
       "    <tr>\n",
       "      <th>...</th>\n",
       "      <td>...</td>\n",
       "    </tr>\n",
       "    <tr>\n",
       "      <th>137</th>\n",
       "      <td>44.150996</td>\n",
       "    </tr>\n",
       "    <tr>\n",
       "      <th>138</th>\n",
       "      <td>63.444547</td>\n",
       "    </tr>\n",
       "    <tr>\n",
       "      <th>139</th>\n",
       "      <td>34.972928</td>\n",
       "    </tr>\n",
       "    <tr>\n",
       "      <th>140</th>\n",
       "      <td>44.150996</td>\n",
       "    </tr>\n",
       "    <tr>\n",
       "      <th>141</th>\n",
       "      <td>38.600562</td>\n",
       "    </tr>\n",
       "  </tbody>\n",
       "</table>\n",
       "<p>142 rows × 1 columns</p>\n",
       "</div>"
      ],
      "text/plain": [
       "         price\n",
       "0    38.413509\n",
       "1    29.075532\n",
       "2    28.151558\n",
       "3    28.128069\n",
       "4    20.231084\n",
       "..         ...\n",
       "137  44.150996\n",
       "138  63.444547\n",
       "139  34.972928\n",
       "140  44.150996\n",
       "141  38.600562\n",
       "\n",
       "[142 rows x 1 columns]"
      ]
     },
     "execution_count": 336,
     "metadata": {},
     "output_type": "execute_result"
    }
   ],
   "source": [
    "pred_df"
   ]
  },
  {
   "cell_type": "code",
   "execution_count": 338,
   "metadata": {},
   "outputs": [
    {
     "data": {
      "text/html": [
       "<div>\n",
       "<style scoped>\n",
       "    .dataframe tbody tr th:only-of-type {\n",
       "        vertical-align: middle;\n",
       "    }\n",
       "\n",
       "    .dataframe tbody tr th {\n",
       "        vertical-align: top;\n",
       "    }\n",
       "\n",
       "    .dataframe thead th {\n",
       "        text-align: right;\n",
       "    }\n",
       "</style>\n",
       "<table border=\"1\" class=\"dataframe\">\n",
       "  <thead>\n",
       "    <tr style=\"text-align: right;\">\n",
       "      <th></th>\n",
       "      <th>division</th>\n",
       "      <th>district</th>\n",
       "      <th>upazila</th>\n",
       "      <th>bazar</th>\n",
       "      <th>merchandise</th>\n",
       "      <th>year</th>\n",
       "      <th>price</th>\n",
       "      <th>predicted_price</th>\n",
       "    </tr>\n",
       "  </thead>\n",
       "  <tbody>\n",
       "    <tr>\n",
       "      <th>0</th>\n",
       "      <td>Barisal</td>\n",
       "      <td>Jhalakathi</td>\n",
       "      <td>Jhalakathi Sadar</td>\n",
       "      <td>Jhalakathi Sadar</td>\n",
       "      <td>Boro</td>\n",
       "      <td>2021</td>\n",
       "      <td>18.69</td>\n",
       "      <td>38.413509</td>\n",
       "    </tr>\n",
       "    <tr>\n",
       "      <th>1</th>\n",
       "      <td>Dhaka</td>\n",
       "      <td>Tangail</td>\n",
       "      <td>Tangail Sadar Bazar</td>\n",
       "      <td>Tangail Sadar Bazar</td>\n",
       "      <td>Aman</td>\n",
       "      <td>2021</td>\n",
       "      <td>20.50</td>\n",
       "      <td>29.075532</td>\n",
       "    </tr>\n",
       "    <tr>\n",
       "      <th>2</th>\n",
       "      <td>Barisal</td>\n",
       "      <td>Patuakhali</td>\n",
       "      <td>Patuakhali Sadar</td>\n",
       "      <td>Patuakhali Sadar</td>\n",
       "      <td>Aus</td>\n",
       "      <td>2022</td>\n",
       "      <td>21.00</td>\n",
       "      <td>28.151558</td>\n",
       "    </tr>\n",
       "    <tr>\n",
       "      <th>3</th>\n",
       "      <td>Barisal</td>\n",
       "      <td>Bhola</td>\n",
       "      <td>Bhola Sadar</td>\n",
       "      <td>Bhola Sadar</td>\n",
       "      <td>Boro</td>\n",
       "      <td>2021</td>\n",
       "      <td>21.50</td>\n",
       "      <td>28.128069</td>\n",
       "    </tr>\n",
       "    <tr>\n",
       "      <th>4</th>\n",
       "      <td>Barisal</td>\n",
       "      <td>Barguna</td>\n",
       "      <td>Barguna Sadar</td>\n",
       "      <td>Barguna Sadar</td>\n",
       "      <td>Aus</td>\n",
       "      <td>2021</td>\n",
       "      <td>21.53</td>\n",
       "      <td>20.231084</td>\n",
       "    </tr>\n",
       "    <tr>\n",
       "      <th>...</th>\n",
       "      <td>...</td>\n",
       "      <td>...</td>\n",
       "      <td>...</td>\n",
       "      <td>...</td>\n",
       "      <td>...</td>\n",
       "      <td>...</td>\n",
       "      <td>...</td>\n",
       "      <td>...</td>\n",
       "    </tr>\n",
       "    <tr>\n",
       "      <th>137</th>\n",
       "      <td>Khulna</td>\n",
       "      <td>Jessore</td>\n",
       "      <td>Headquarter of Jessore</td>\n",
       "      <td>Headquarter of Jessore</td>\n",
       "      <td>Boro</td>\n",
       "      <td>2022</td>\n",
       "      <td>38.59</td>\n",
       "      <td>44.150996</td>\n",
       "    </tr>\n",
       "    <tr>\n",
       "      <th>138</th>\n",
       "      <td>Rajshahi</td>\n",
       "      <td>Natore</td>\n",
       "      <td>Natore Sadar</td>\n",
       "      <td>Natore Sadar</td>\n",
       "      <td>Boro</td>\n",
       "      <td>2022</td>\n",
       "      <td>39.71</td>\n",
       "      <td>63.444547</td>\n",
       "    </tr>\n",
       "    <tr>\n",
       "      <th>139</th>\n",
       "      <td>Rangpur</td>\n",
       "      <td>Gaibandha</td>\n",
       "      <td>Gaibandha Sadar</td>\n",
       "      <td>Gaibandha Sadar</td>\n",
       "      <td>Aman</td>\n",
       "      <td>2021</td>\n",
       "      <td>41.00</td>\n",
       "      <td>34.972928</td>\n",
       "    </tr>\n",
       "    <tr>\n",
       "      <th>140</th>\n",
       "      <td>Khulna</td>\n",
       "      <td>Jessore</td>\n",
       "      <td>Headquarter of Jessore</td>\n",
       "      <td>Headquarter of Jessore</td>\n",
       "      <td>Boro</td>\n",
       "      <td>2021</td>\n",
       "      <td>44.82</td>\n",
       "      <td>44.150996</td>\n",
       "    </tr>\n",
       "    <tr>\n",
       "      <th>141</th>\n",
       "      <td>Dhaka</td>\n",
       "      <td>Mymensingh</td>\n",
       "      <td>Mymensingh Sadar</td>\n",
       "      <td>Mymensingh Sadar</td>\n",
       "      <td>Aman</td>\n",
       "      <td>2022</td>\n",
       "      <td>50.00</td>\n",
       "      <td>38.600562</td>\n",
       "    </tr>\n",
       "  </tbody>\n",
       "</table>\n",
       "<p>142 rows × 8 columns</p>\n",
       "</div>"
      ],
      "text/plain": [
       "     division    district                 upazila                   bazar  \\\n",
       "0     Barisal  Jhalakathi        Jhalakathi Sadar        Jhalakathi Sadar   \n",
       "1       Dhaka     Tangail     Tangail Sadar Bazar     Tangail Sadar Bazar   \n",
       "2     Barisal  Patuakhali        Patuakhali Sadar        Patuakhali Sadar   \n",
       "3     Barisal       Bhola             Bhola Sadar             Bhola Sadar   \n",
       "4     Barisal     Barguna           Barguna Sadar           Barguna Sadar   \n",
       "..        ...         ...                     ...                     ...   \n",
       "137    Khulna     Jessore  Headquarter of Jessore  Headquarter of Jessore   \n",
       "138  Rajshahi      Natore            Natore Sadar            Natore Sadar   \n",
       "139   Rangpur   Gaibandha         Gaibandha Sadar         Gaibandha Sadar   \n",
       "140    Khulna     Jessore  Headquarter of Jessore  Headquarter of Jessore   \n",
       "141     Dhaka  Mymensingh        Mymensingh Sadar        Mymensingh Sadar   \n",
       "\n",
       "    merchandise  year  price  predicted_price  \n",
       "0          Boro  2021  18.69        38.413509  \n",
       "1          Aman  2021  20.50        29.075532  \n",
       "2           Aus  2022  21.00        28.151558  \n",
       "3          Boro  2021  21.50        28.128069  \n",
       "4           Aus  2021  21.53        20.231084  \n",
       "..          ...   ...    ...              ...  \n",
       "137        Boro  2022  38.59        44.150996  \n",
       "138        Boro  2022  39.71        63.444547  \n",
       "139        Aman  2021  41.00        34.972928  \n",
       "140        Boro  2021  44.82        44.150996  \n",
       "141        Aman  2022  50.00        38.600562  \n",
       "\n",
       "[142 rows x 8 columns]"
      ]
     },
     "execution_count": 338,
     "metadata": {},
     "output_type": "execute_result"
    }
   ],
   "source": [
    "# merge the prediction dataframe with test dataframe renaming price to predicted price\n",
    "actual_df['predicted_price'] = pred_df\n",
    "\n",
    "test_df = actual_df.copy()\n",
    "\n",
    "test_df"
   ]
  },
  {
   "cell_type": "code",
   "execution_count": 339,
   "metadata": {
    "collapsed": false
   },
   "outputs": [
    {
     "data": {
      "text/html": [
       "<div>\n",
       "<style scoped>\n",
       "    .dataframe tbody tr th:only-of-type {\n",
       "        vertical-align: middle;\n",
       "    }\n",
       "\n",
       "    .dataframe tbody tr th {\n",
       "        vertical-align: top;\n",
       "    }\n",
       "\n",
       "    .dataframe thead th {\n",
       "        text-align: right;\n",
       "    }\n",
       "</style>\n",
       "<table border=\"1\" class=\"dataframe\">\n",
       "  <thead>\n",
       "    <tr style=\"text-align: right;\">\n",
       "      <th></th>\n",
       "      <th>division</th>\n",
       "      <th>district</th>\n",
       "      <th>upazila</th>\n",
       "      <th>bazar</th>\n",
       "      <th>merchandise</th>\n",
       "      <th>year</th>\n",
       "      <th>price</th>\n",
       "      <th>predicted_price</th>\n",
       "    </tr>\n",
       "  </thead>\n",
       "  <tbody>\n",
       "    <tr>\n",
       "      <th>0</th>\n",
       "      <td>Barisal</td>\n",
       "      <td>Jhalakathi</td>\n",
       "      <td>Jhalakathi Sadar</td>\n",
       "      <td>Jhalakathi Sadar</td>\n",
       "      <td>Boro</td>\n",
       "      <td>2021</td>\n",
       "      <td>18.69</td>\n",
       "      <td>38.413509</td>\n",
       "    </tr>\n",
       "    <tr>\n",
       "      <th>1</th>\n",
       "      <td>Dhaka</td>\n",
       "      <td>Tangail</td>\n",
       "      <td>Tangail Sadar Bazar</td>\n",
       "      <td>Tangail Sadar Bazar</td>\n",
       "      <td>Aman</td>\n",
       "      <td>2021</td>\n",
       "      <td>20.50</td>\n",
       "      <td>29.075532</td>\n",
       "    </tr>\n",
       "    <tr>\n",
       "      <th>2</th>\n",
       "      <td>Barisal</td>\n",
       "      <td>Patuakhali</td>\n",
       "      <td>Patuakhali Sadar</td>\n",
       "      <td>Patuakhali Sadar</td>\n",
       "      <td>Aus</td>\n",
       "      <td>2022</td>\n",
       "      <td>21.00</td>\n",
       "      <td>28.151558</td>\n",
       "    </tr>\n",
       "    <tr>\n",
       "      <th>3</th>\n",
       "      <td>Barisal</td>\n",
       "      <td>Bhola</td>\n",
       "      <td>Bhola Sadar</td>\n",
       "      <td>Bhola Sadar</td>\n",
       "      <td>Boro</td>\n",
       "      <td>2021</td>\n",
       "      <td>21.50</td>\n",
       "      <td>28.128069</td>\n",
       "    </tr>\n",
       "    <tr>\n",
       "      <th>4</th>\n",
       "      <td>Barisal</td>\n",
       "      <td>Barguna</td>\n",
       "      <td>Barguna Sadar</td>\n",
       "      <td>Barguna Sadar</td>\n",
       "      <td>Aus</td>\n",
       "      <td>2021</td>\n",
       "      <td>21.53</td>\n",
       "      <td>20.231084</td>\n",
       "    </tr>\n",
       "    <tr>\n",
       "      <th>...</th>\n",
       "      <td>...</td>\n",
       "      <td>...</td>\n",
       "      <td>...</td>\n",
       "      <td>...</td>\n",
       "      <td>...</td>\n",
       "      <td>...</td>\n",
       "      <td>...</td>\n",
       "      <td>...</td>\n",
       "    </tr>\n",
       "    <tr>\n",
       "      <th>137</th>\n",
       "      <td>Khulna</td>\n",
       "      <td>Jessore</td>\n",
       "      <td>Headquarter of Jessore</td>\n",
       "      <td>Headquarter of Jessore</td>\n",
       "      <td>Boro</td>\n",
       "      <td>2022</td>\n",
       "      <td>38.59</td>\n",
       "      <td>44.150996</td>\n",
       "    </tr>\n",
       "    <tr>\n",
       "      <th>138</th>\n",
       "      <td>Rajshahi</td>\n",
       "      <td>Natore</td>\n",
       "      <td>Natore Sadar</td>\n",
       "      <td>Natore Sadar</td>\n",
       "      <td>Boro</td>\n",
       "      <td>2022</td>\n",
       "      <td>39.71</td>\n",
       "      <td>63.444547</td>\n",
       "    </tr>\n",
       "    <tr>\n",
       "      <th>139</th>\n",
       "      <td>Rangpur</td>\n",
       "      <td>Gaibandha</td>\n",
       "      <td>Gaibandha Sadar</td>\n",
       "      <td>Gaibandha Sadar</td>\n",
       "      <td>Aman</td>\n",
       "      <td>2021</td>\n",
       "      <td>41.00</td>\n",
       "      <td>34.972928</td>\n",
       "    </tr>\n",
       "    <tr>\n",
       "      <th>140</th>\n",
       "      <td>Khulna</td>\n",
       "      <td>Jessore</td>\n",
       "      <td>Headquarter of Jessore</td>\n",
       "      <td>Headquarter of Jessore</td>\n",
       "      <td>Boro</td>\n",
       "      <td>2021</td>\n",
       "      <td>44.82</td>\n",
       "      <td>44.150996</td>\n",
       "    </tr>\n",
       "    <tr>\n",
       "      <th>141</th>\n",
       "      <td>Dhaka</td>\n",
       "      <td>Mymensingh</td>\n",
       "      <td>Mymensingh Sadar</td>\n",
       "      <td>Mymensingh Sadar</td>\n",
       "      <td>Aman</td>\n",
       "      <td>2022</td>\n",
       "      <td>50.00</td>\n",
       "      <td>38.600562</td>\n",
       "    </tr>\n",
       "  </tbody>\n",
       "</table>\n",
       "<p>142 rows × 8 columns</p>\n",
       "</div>"
      ],
      "text/plain": [
       "     division    district                 upazila                   bazar  \\\n",
       "0     Barisal  Jhalakathi        Jhalakathi Sadar        Jhalakathi Sadar   \n",
       "1       Dhaka     Tangail     Tangail Sadar Bazar     Tangail Sadar Bazar   \n",
       "2     Barisal  Patuakhali        Patuakhali Sadar        Patuakhali Sadar   \n",
       "3     Barisal       Bhola             Bhola Sadar             Bhola Sadar   \n",
       "4     Barisal     Barguna           Barguna Sadar           Barguna Sadar   \n",
       "..        ...         ...                     ...                     ...   \n",
       "137    Khulna     Jessore  Headquarter of Jessore  Headquarter of Jessore   \n",
       "138  Rajshahi      Natore            Natore Sadar            Natore Sadar   \n",
       "139   Rangpur   Gaibandha         Gaibandha Sadar         Gaibandha Sadar   \n",
       "140    Khulna     Jessore  Headquarter of Jessore  Headquarter of Jessore   \n",
       "141     Dhaka  Mymensingh        Mymensingh Sadar        Mymensingh Sadar   \n",
       "\n",
       "    merchandise  year  price  predicted_price  \n",
       "0          Boro  2021  18.69        38.413509  \n",
       "1          Aman  2021  20.50        29.075532  \n",
       "2           Aus  2022  21.00        28.151558  \n",
       "3          Boro  2021  21.50        28.128069  \n",
       "4           Aus  2021  21.53        20.231084  \n",
       "..          ...   ...    ...              ...  \n",
       "137        Boro  2022  38.59        44.150996  \n",
       "138        Boro  2022  39.71        63.444547  \n",
       "139        Aman  2021  41.00        34.972928  \n",
       "140        Boro  2021  44.82        44.150996  \n",
       "141        Aman  2022  50.00        38.600562  \n",
       "\n",
       "[142 rows x 8 columns]"
      ]
     },
     "execution_count": 339,
     "metadata": {},
     "output_type": "execute_result"
    }
   ],
   "source": [
    "test_df"
   ]
  },
  {
   "cell_type": "code",
   "execution_count": 345,
   "metadata": {
    "collapsed": false
   },
   "outputs": [
    {
     "data": {
      "image/png": "[encoded data removed]",
      "text/plain": [
       "<Figure size 1296x504 with 1 Axes>"
      ]
     },
     "metadata": {
      "needs_background": "light"
     },
     "output_type": "display_data"
    }
   ],
   "source": [
    "# make a comparison figure to show the difference between actual price and predicted price by departments\n",
    "plt.figure(figsize=(18, 7))\n",
    "sns.barplot(x='division', y='predicted_price', data=test_df, color='red', label='Predicted Price')\n",
    "sns.barplot(x='division', y='price', data=test_df, color='blue', label='Actual Price')\n",
    "plt.xlabel('Division', fontsize=12)\n",
    "plt.ylabel('Price', fontsize=12)\n",
    "plt.title('Actual Price vs Predicted Price by Division', fontsize=15)\n",
    "plt.legend()\n",
    "plt.savefig('images/lgbm_barplot.pdf')\n",
    "plt.show()\n"
   ]
  },
  {
   "cell_type": "code",
   "execution_count": 343,
   "metadata": {
    "collapsed": false
   },
   "outputs": [
    {
     "name": "stderr",
     "output_type": "stream",
     "text": [
      "c:\\users\\errhy\\appdata\\local\\programs\\python\\python39\\lib\\site-packages\\seaborn\\_decorators.py:36: FutureWarning: Pass the following variables as keyword args: x, y. From version 0.12, the only valid positional argument will be `data`, and passing other arguments without an explicit keyword will result in an error or misinterpretation.\n",
      "  warnings.warn(\n"
     ]
    },
    {
     "data": {
      "image/png": "[encoded data removed]",
      "text/plain": [
       "<Figure size 1296x504 with 1 Axes>"
      ]
     },
     "metadata": {
      "needs_background": "light"
     },
     "output_type": "display_data"
    }
   ],
   "source": [
    "# make a scatterplot by seaborn comparing the actual price and predicted price\n",
    "plt.figure(figsize= (18, 7))\n",
    "sns.scatterplot(test_df['price'], test_df['predicted_price'])\n",
    "plt.xlabel('Actual Price', fontsize= 12)\n",
    "plt.ylabel('Predicted Price', fontsize= 12)\n",
    "plt.title('Actual Price vs Predicted Price', fontsize= 15)\n",
    "plt.savefig('images/lgbm_scatter.pdf')\n",
    "plt.show()"
   ]
  },
  {
   "cell_type": "code",
   "execution_count": null,
   "metadata": {},
   "outputs": [],
   "source": []
  }
 ],
 "metadata": {
  "kernelspec": {
   "display_name": "Python 3",
   "language": "python",
   "name": "python3"
  },
  "language_info": {
   "codemirror_mode": {
    "name": "ipython",
    "version": 3
   },
   "file_extension": ".py",
   "mimetype": "text/x-python",
   "name": "python",
   "nbconvert_exporter": "python",
   "pygments_lexer": "ipython3",
   "version": "3.10.11"
  }
 },
 "nbformat": 4,
 "nbformat_minor": 0
}
